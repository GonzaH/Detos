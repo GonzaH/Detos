{
 "cells": [
  {
   "cell_type": "markdown",
   "metadata": {},
   "source": [
    "# Limpieza de los set de datos"
   ]
  },
  {
   "cell_type": "code",
   "execution_count": 1,
   "metadata": {},
   "outputs": [],
   "source": [
    "import datetime as datetime\n",
    "import pandas as pd\n",
    "import numpy as np\n",
    "import matplotlib.pyplot as plt\n",
    "%matplotlib inline\n",
    "plt.style.use('default') # Make the graphs a bit prettier\n",
    "plt.rcParams['figure.figsize'] = (15, 5)"
   ]
  },
  {
   "cell_type": "code",
   "execution_count": 2,
   "metadata": {},
   "outputs": [],
   "source": [
    "import os\n",
    "path_working_directory = os.getcwd()\n",
    "\n",
    "educacion = pd.read_csv(os.path.join(path_working_directory, \"datos_navent_fiuba\", \"fiuba_1_postulantes_educacion.csv\"), low_memory=False)\n",
    "genero_edad = pd.read_csv(os.path.join(path_working_directory, \"datos_navent_fiuba\", \"fiuba_2_postulantes_genero_y_edad.csv\"), low_memory=False)\n",
    "visitas = pd.read_csv(os.path.join(path_working_directory, \"datos_navent_fiuba\", \"fiuba_3_vistas.csv\"), low_memory=False)\n",
    "postulaciones = pd.read_csv(os.path.join(path_working_directory, \"datos_navent_fiuba\", \"fiuba_4_postulaciones.csv\"), low_memory=False)\n",
    "avisos_online = pd.read_csv(os.path.join(path_working_directory, \"datos_navent_fiuba\", \"fiuba_5_avisos_online.csv\"), low_memory=False)\n",
    "avisos_detalles = pd.read_csv(os.path.join(path_working_directory, \"datos_navent_fiuba\", \"fiuba_6_avisos_detalle.csv\"), low_memory=False)"
   ]
  },
  {
   "cell_type": "markdown",
   "metadata": {},
   "source": [
    "### Set de genero y fechas de nacimiento"
   ]
  },
  {
   "cell_type": "code",
   "execution_count": 3,
   "metadata": {},
   "outputs": [
    {
     "name": "stdout",
     "output_type": "stream",
     "text": [
      "Cantidad de usuarios: 200888 \n",
      "\n",
      "Los usuarios son unicos: True \n",
      "\n",
      "idpostulante       False\n",
      "fechanacimiento     True\n",
      "sexo               False\n",
      "dtype: bool \n",
      "\n",
      "idpostulante          0\n",
      "fechanacimiento    4750\n",
      "sexo                  0\n",
      "dtype: int64 \n",
      "\n",
      "idpostulante       object\n",
      "fechanacimiento    object\n",
      "sexo               object\n",
      "dtype: object \n",
      "\n"
     ]
    }
   ],
   "source": [
    "print \"Cantidad de usuarios:\", len(genero_edad), '\\n'\n",
    "print \"Los usuarios son unicos:\", len(genero_edad) == len(genero_edad.groupby('idpostulante')), '\\n'\n",
    "print genero_edad.isnull().any(), '\\n'\n",
    "print genero_edad.isnull().sum(), '\\n'\n",
    "print genero_edad.dtypes, '\\n'"
   ]
  },
  {
   "cell_type": "markdown",
   "metadata": {},
   "source": [
    "Como se puede observar, existen 4750 usuarios de 200888 que no declaran su fecha de nacimiento (es decir, aproximadamente un 2,36%). Para que el set de datos este completo se podria rellenar los datos faltantes realizando una regresion o sacando un promedio siguiendo algun tipo de criterio. Sin embargo, como la cantidad de usuarios en cuestion es baja, se los puede eliminar del set de datos. Antes de realizar esto se analizara cuantas postulaciones y visitas corresponden a usuarios sin fecha de nacimiento, para ver si eliminar dichos usuarios implica quitar muchas postulaciones y visitas a avisos de los demas sets de datos."
   ]
  },
  {
   "cell_type": "code",
   "execution_count": 4,
   "metadata": {},
   "outputs": [
    {
     "name": "stdout",
     "output_type": "stream",
     "text": [
      "4750 postulantes no declaran edad \n",
      "\n",
      "196138 postulantes declaran edad \n",
      "\n",
      "44464 postulaciones de usuarios sin fecha de nacimiento de 3401623 \n",
      "\n",
      "22767 visitas de usuarios sin fecha de nacimiento de 961897\n"
     ]
    }
   ],
   "source": [
    "no_declaran_edad = genero_edad[genero_edad.fechanacimiento.isnull()]\n",
    "print len(no_declaran_edad), \"postulantes no declaran edad\", '\\n'\n",
    "declaran_edad = genero_edad[genero_edad.fechanacimiento.notnull()]\n",
    "print len(declaran_edad), \"postulantes declaran edad\", '\\n'\n",
    "postulaciones_sin_fecha_nacimiento = pd.merge(no_declaran_edad, postulaciones, how='inner', on='idpostulante')\n",
    "print len(postulaciones_sin_fecha_nacimiento), \"postulaciones de usuarios sin fecha de nacimiento de\", len(postulaciones), '\\n'\n",
    "visitas_sin_fecha_nacimiento = pd.merge(no_declaran_edad, visitas, how='inner', on='idpostulante')\n",
    "print len(visitas_sin_fecha_nacimiento), \"visitas de usuarios sin fecha de nacimiento de\", len(visitas)"
   ]
  },
  {
   "cell_type": "markdown",
   "metadata": {},
   "source": [
    "Aproximadamente un 1,31% de las postulaciones corresponden a usuarios sin fecha de nacimiento mientras que en el caso de las visitas es de un 2,37%. Teniendo en cuenta que estos valores son pequenos, podemos optar por eliminar los usuarios sin fecha de nacimiento (y hacer lo propio con sus postulaciones y visitas a avisos)"
   ]
  },
  {
   "cell_type": "code",
   "execution_count": 5,
   "metadata": {},
   "outputs": [],
   "source": [
    "genero_edad_filtrado = genero_edad[genero_edad.fechanacimiento.notnull()]"
   ]
  },
  {
   "cell_type": "code",
   "execution_count": 6,
   "metadata": {},
   "outputs": [
    {
     "data": {
      "text/plain": [
       "196138"
      ]
     },
     "execution_count": 6,
     "metadata": {},
     "output_type": "execute_result"
    }
   ],
   "source": [
    "len(genero_edad_filtrado)"
   ]
  },
  {
   "cell_type": "markdown",
   "metadata": {},
   "source": [
    "### Set de estudios"
   ]
  },
  {
   "cell_type": "code",
   "execution_count": 7,
   "metadata": {},
   "outputs": [
    {
     "name": "stdout",
     "output_type": "stream",
     "text": [
      "idpostulante    False\n",
      "nombre          False\n",
      "estado          False\n",
      "dtype: bool \n",
      "\n",
      "       idpostulante      nombre    estado\n",
      "count        298231      298231    298231\n",
      "unique       188752           7         3\n",
      "top          YlMLGD  Secundario  Graduado\n",
      "freq              9      110256    194474 \n",
      "\n",
      "idpostulante    object\n",
      "nombre          object\n",
      "estado          object\n",
      "dtype: object \n",
      "\n",
      "Secundario           110256\n",
      "Universitario        104295\n",
      "Terciario/Técnico     47733\n",
      "Otro                  24748\n",
      "Posgrado               7387\n",
      "Master                 3598\n",
      "Doctorado               214\n",
      "Name: nombre, dtype: int64 \n",
      "\n",
      "Graduado      194474\n",
      "En Curso       78531\n",
      "Abandonado     25226\n",
      "Name: estado, dtype: int64 \n",
      "\n"
     ]
    }
   ],
   "source": [
    "print educacion.isnull().any(), '\\n'\n",
    "print educacion.describe(include='all'), '\\n'\n",
    "print educacion.dtypes, '\\n'\n",
    "print educacion.nombre.value_counts(), '\\n'\n",
    "print educacion.estado.value_counts(), '\\n'"
   ]
  },
  {
   "cell_type": "markdown",
   "metadata": {},
   "source": [
    "Se puede observar que en algunos casos existen multiples entradas de estudio por usuario. A continuacion se analizara el caso del usuario que tiene mas entadas, cuyo id es YlMLGD:"
   ]
  },
  {
   "cell_type": "code",
   "execution_count": 8,
   "metadata": {},
   "outputs": [
    {
     "data": {
      "text/html": [
       "<div>\n",
       "<style>\n",
       "    .dataframe thead tr:only-child th {\n",
       "        text-align: right;\n",
       "    }\n",
       "\n",
       "    .dataframe thead th {\n",
       "        text-align: left;\n",
       "    }\n",
       "\n",
       "    .dataframe tbody tr th {\n",
       "        vertical-align: top;\n",
       "    }\n",
       "</style>\n",
       "<table border=\"1\" class=\"dataframe\">\n",
       "  <thead>\n",
       "    <tr style=\"text-align: right;\">\n",
       "      <th></th>\n",
       "      <th>idpostulante</th>\n",
       "      <th>nombre</th>\n",
       "      <th>estado</th>\n",
       "    </tr>\n",
       "  </thead>\n",
       "  <tbody>\n",
       "    <tr>\n",
       "      <th>373</th>\n",
       "      <td>YlMLGD</td>\n",
       "      <td>Terciario/Técnico</td>\n",
       "      <td>En Curso</td>\n",
       "    </tr>\n",
       "    <tr>\n",
       "      <th>374</th>\n",
       "      <td>YlMLGD</td>\n",
       "      <td>Otro</td>\n",
       "      <td>En Curso</td>\n",
       "    </tr>\n",
       "    <tr>\n",
       "      <th>375</th>\n",
       "      <td>YlMLGD</td>\n",
       "      <td>Universitario</td>\n",
       "      <td>En Curso</td>\n",
       "    </tr>\n",
       "    <tr>\n",
       "      <th>2206</th>\n",
       "      <td>YlMLGD</td>\n",
       "      <td>Terciario/Técnico</td>\n",
       "      <td>Graduado</td>\n",
       "    </tr>\n",
       "    <tr>\n",
       "      <th>2207</th>\n",
       "      <td>YlMLGD</td>\n",
       "      <td>Universitario</td>\n",
       "      <td>Graduado</td>\n",
       "    </tr>\n",
       "    <tr>\n",
       "      <th>2208</th>\n",
       "      <td>YlMLGD</td>\n",
       "      <td>Otro</td>\n",
       "      <td>Graduado</td>\n",
       "    </tr>\n",
       "    <tr>\n",
       "      <th>2209</th>\n",
       "      <td>YlMLGD</td>\n",
       "      <td>Posgrado</td>\n",
       "      <td>Graduado</td>\n",
       "    </tr>\n",
       "    <tr>\n",
       "      <th>3659</th>\n",
       "      <td>YlMLGD</td>\n",
       "      <td>Universitario</td>\n",
       "      <td>Abandonado</td>\n",
       "    </tr>\n",
       "    <tr>\n",
       "      <th>3660</th>\n",
       "      <td>YlMLGD</td>\n",
       "      <td>Terciario/Técnico</td>\n",
       "      <td>Abandonado</td>\n",
       "    </tr>\n",
       "  </tbody>\n",
       "</table>\n",
       "</div>"
      ],
      "text/plain": [
       "     idpostulante             nombre      estado\n",
       "373        YlMLGD  Terciario/Técnico    En Curso\n",
       "374        YlMLGD               Otro    En Curso\n",
       "375        YlMLGD      Universitario    En Curso\n",
       "2206       YlMLGD  Terciario/Técnico    Graduado\n",
       "2207       YlMLGD      Universitario    Graduado\n",
       "2208       YlMLGD               Otro    Graduado\n",
       "2209       YlMLGD           Posgrado    Graduado\n",
       "3659       YlMLGD      Universitario  Abandonado\n",
       "3660       YlMLGD  Terciario/Técnico  Abandonado"
      ]
     },
     "execution_count": 8,
     "metadata": {},
     "output_type": "execute_result"
    }
   ],
   "source": [
    "educacion[educacion['idpostulante'] == 'YlMLGD']"
   ]
  },
  {
   "cell_type": "markdown",
   "metadata": {},
   "source": [
    "Podemos ver que este usuario presenta multiples entradas con estudios con estado En Curso, Graduado y Abandonado. A su vez, aparencen multiples entradas para un mismo tipo de estudio, como es el caso de Universitario.\n",
    "Para poder analizar mejor los datos de educacion, se opto por generar un dataframe que tenga una fila por cada usuario donde sus columnas sean el id del usuario (idpostulante), el mayor nivel de estudio en el que se graduo (estudio_graduado) y el mayor nivel de estudio que tiene en curso (estudio_en_curso), que a su vez debe ser mayor al nivel que tiene en la columna estudio_graduado.\n",
    "Se definio que el nivel de estudio, de menor a mayor, sea el siguiente: \n",
    "Otro, Secundario, Terciario/Técnico, Universitario, Master, Posgrado y Doctorado."
   ]
  },
  {
   "cell_type": "code",
   "execution_count": 9,
   "metadata": {},
   "outputs": [],
   "source": [
    "tipos_de_estudio = ['', 'Otro', 'Secundario', 'Terciario/Técnico', 'Universitario', 'Master', 'Posgrado', 'Doctorado']\n",
    "def get_dict_tipos_de_estudio():\n",
    "    dict = {}\n",
    "    for x in range(len(tipos_de_estudio)):\n",
    "        dict[tipos_de_estudio[x]] = x\n",
    "    return dict\n",
    "\n",
    "dict_tipos_de_estudio = get_dict_tipos_de_estudio()\n",
    "\n",
    "def mejor_estudio(estudio1, estudio2):\n",
    "    return tipos_de_estudio[max(tipos_de_estudio.index(estudio1), tipos_de_estudio.index(estudio2))]\n",
    "\n",
    "en_curso = educacion.apply(lambda x: dict_tipos_de_estudio[x['nombre']] if x['estado'] == 'En Curso' else 0, axis=1)\n",
    "graduado = educacion.apply(lambda x: dict_tipos_de_estudio[x['nombre']] if x['estado'] == 'Graduado' else 0, axis=1)\n",
    "educacion2 = educacion.assign(estudio_en_curso=en_curso)\n",
    "educacion2 = educacion2.assign(estudio_graduado=graduado)"
   ]
  },
  {
   "cell_type": "code",
   "execution_count": 10,
   "metadata": {},
   "outputs": [
    {
     "name": "stdout",
     "output_type": "stream",
     "text": [
      "188752\n"
     ]
    },
    {
     "data": {
      "text/html": [
       "<div>\n",
       "<style>\n",
       "    .dataframe thead tr:only-child th {\n",
       "        text-align: right;\n",
       "    }\n",
       "\n",
       "    .dataframe thead th {\n",
       "        text-align: left;\n",
       "    }\n",
       "\n",
       "    .dataframe tbody tr th {\n",
       "        vertical-align: top;\n",
       "    }\n",
       "</style>\n",
       "<table border=\"1\" class=\"dataframe\">\n",
       "  <thead>\n",
       "    <tr style=\"text-align: right;\">\n",
       "      <th></th>\n",
       "      <th>idpostulante</th>\n",
       "      <th>estudio_en_curso</th>\n",
       "      <th>estudio_graduado</th>\n",
       "    </tr>\n",
       "  </thead>\n",
       "  <tbody>\n",
       "    <tr>\n",
       "      <th>117605</th>\n",
       "      <td>YlMLGD</td>\n",
       "      <td></td>\n",
       "      <td>Posgrado</td>\n",
       "    </tr>\n",
       "  </tbody>\n",
       "</table>\n",
       "</div>"
      ],
      "text/plain": [
       "       idpostulante estudio_en_curso estudio_graduado\n",
       "117605       YlMLGD                          Posgrado"
      ]
     },
     "execution_count": 10,
     "metadata": {},
     "output_type": "execute_result"
    }
   ],
   "source": [
    "educacion_grupos = educacion2.groupby('idpostulante')\n",
    "educacion_nueva = pd.DataFrame({\n",
    "    'estudio_en_curso': educacion_grupos['estudio_en_curso'].max(),\n",
    "    'estudio_graduado': educacion_grupos['estudio_graduado'].max()\n",
    "}).reset_index()\n",
    "# educacion_nueva['estudio_en_curso'] = educacion_nueva['estudio_en_curso'].apply(lambda x: tipos_de_estudio[x])\n",
    "educacion_nueva['estudio_en_curso'] = educacion_nueva.apply(lambda x: tipos_de_estudio[x['estudio_en_curso']] if x['estudio_en_curso'] > x['estudio_graduado'] else '', axis=1)\n",
    "educacion_nueva['estudio_graduado'] = educacion_nueva['estudio_graduado'].apply(lambda x: tipos_de_estudio[x])\n",
    "print len(educacion_nueva)\n",
    "educacion_nueva[educacion_nueva['idpostulante'] == 'YlMLGD']"
   ]
  },
  {
   "cell_type": "markdown",
   "metadata": {},
   "source": [
    "El usuario YlMLGD no tiene una entrada en la columna de estudio en curso dado que esta graduado en un Posgrado (y su mayor estudio en curso es Universitario, que tiene un menor nivel). \n",
    "De esta manera, se tiene una unica entrada por cada usuario y la cantidad de entradas se corresponde con la cantidad de valores unicos en el dataframe original."
   ]
  },
  {
   "cell_type": "markdown",
   "metadata": {},
   "source": [
    "Solamente queremos mantener usuarios que tengan informacion sobre su educacion:"
   ]
  },
  {
   "cell_type": "code",
   "execution_count": 11,
   "metadata": {},
   "outputs": [
    {
     "data": {
      "text/plain": [
       "185878"
      ]
     },
     "execution_count": 11,
     "metadata": {},
     "output_type": "execute_result"
    }
   ],
   "source": [
    "usuarios_educacion_edad = pd.merge(genero_edad_filtrado, educacion_nueva, on='idpostulante', how='inner')\n",
    "len(usuarios_educacion_edad)"
   ]
  },
  {
   "cell_type": "markdown",
   "metadata": {},
   "source": [
    "Dentro de los usuarios con entradas de educacion, la cantidad de usuarios sin fecha de nacimiento no es alta (2874 de 188752, que es un 1,52%) y dado que se queria realizar un analisis teniendo en cuenta esta informacion, se opto por borrarlos."
   ]
  },
  {
   "cell_type": "code",
   "execution_count": 12,
   "metadata": {},
   "outputs": [
    {
     "name": "stdout",
     "output_type": "stream",
     "text": [
      "3268054 postulaciones de usuarios con fecha de nacimiento y educacion de 3401623 \n",
      "\n",
      "895478 visitas de usuarios con fecha de nacimiento y educacion de 961897\n"
     ]
    }
   ],
   "source": [
    "postulaciones_total = len(postulaciones)\n",
    "postulaciones_filtrado = pd.merge(usuarios_educacion_edad, postulaciones, how='inner', on='idpostulante')\n",
    "print len(postulaciones_filtrado), \"postulaciones de usuarios con fecha de nacimiento y educacion de\", postulaciones_total, '\\n'\n",
    "visitas_total = len(visitas)\n",
    "visitas_filtrado = pd.merge(usuarios_educacion_edad, visitas, how='inner', on='idpostulante')\n",
    "print len(visitas_filtrado), \"visitas de usuarios con fecha de nacimiento y educacion de\", visitas_total"
   ]
  },
  {
   "cell_type": "markdown",
   "metadata": {},
   "source": [
    "Esto implica que eliminamos el 3,92% de las postulaciones, el 6,91% de las visitas y 7,47% de los usuarios (teniendo en cuenta como total el numero de entradas del csv de genero y edad). Esto se realizo con el fin de tener dataframes de usuarios con su informacion completa (fecha de nacimiento y su educacion)"
   ]
  },
  {
   "cell_type": "markdown",
   "metadata": {},
   "source": [
    "### Set de datos con detalles de avisos"
   ]
  },
  {
   "cell_type": "code",
   "execution_count": 13,
   "metadata": {},
   "outputs": [
    {
     "name": "stdout",
     "output_type": "stream",
     "text": [
      "13534 \n",
      "\n",
      "Columnas con valores nulos:\n",
      "idaviso                 False\n",
      "idpais                  False\n",
      "titulo                  False\n",
      "descripcion             False\n",
      "nombre_zona             False\n",
      "ciudad                   True\n",
      "mapacalle                True\n",
      "tipo_de_trabajo         False\n",
      "nivel_laboral           False\n",
      "nombre_area             False\n",
      "denominacion_empresa     True\n",
      "dtype: bool \n",
      "\n",
      "Cantidad de valores nulos por columna\n",
      "idaviso                     0\n",
      "idpais                      0\n",
      "titulo                      0\n",
      "descripcion                 0\n",
      "nombre_zona                 0\n",
      "ciudad                  13487\n",
      "mapacalle               12662\n",
      "tipo_de_trabajo             0\n",
      "nivel_laboral               0\n",
      "nombre_area                 0\n",
      "denominacion_empresa        5\n",
      "dtype: int64 \n",
      "\n",
      "idaviso                  int64\n",
      "idpais                   int64\n",
      "titulo                  object\n",
      "descripcion             object\n",
      "nombre_zona             object\n",
      "ciudad                  object\n",
      "mapacalle               object\n",
      "tipo_de_trabajo         object\n",
      "nivel_laboral           object\n",
      "nombre_area             object\n",
      "denominacion_empresa    object\n",
      "dtype: object\n"
     ]
    },
    {
     "data": {
      "text/html": [
       "<div>\n",
       "<style>\n",
       "    .dataframe thead tr:only-child th {\n",
       "        text-align: right;\n",
       "    }\n",
       "\n",
       "    .dataframe thead th {\n",
       "        text-align: left;\n",
       "    }\n",
       "\n",
       "    .dataframe tbody tr th {\n",
       "        vertical-align: top;\n",
       "    }\n",
       "</style>\n",
       "<table border=\"1\" class=\"dataframe\">\n",
       "  <thead>\n",
       "    <tr style=\"text-align: right;\">\n",
       "      <th></th>\n",
       "      <th>idaviso</th>\n",
       "      <th>idpais</th>\n",
       "      <th>titulo</th>\n",
       "      <th>descripcion</th>\n",
       "      <th>nombre_zona</th>\n",
       "      <th>ciudad</th>\n",
       "      <th>mapacalle</th>\n",
       "      <th>tipo_de_trabajo</th>\n",
       "      <th>nivel_laboral</th>\n",
       "      <th>nombre_area</th>\n",
       "      <th>denominacion_empresa</th>\n",
       "    </tr>\n",
       "  </thead>\n",
       "  <tbody>\n",
       "    <tr>\n",
       "      <th>0</th>\n",
       "      <td>8725750</td>\n",
       "      <td>1</td>\n",
       "      <td>VENDEDOR/A PROVINCIA DE SANTA FE</td>\n",
       "      <td>&lt;p&gt;&lt;strong&gt;&lt;strong&gt;Empresa:&lt;/strong&gt;&lt;/strong&gt; ...</td>\n",
       "      <td>Gran Buenos Aires</td>\n",
       "      <td>NaN</td>\n",
       "      <td>NaN</td>\n",
       "      <td>Full-time</td>\n",
       "      <td>Senior / Semi-Senior</td>\n",
       "      <td>Comercial</td>\n",
       "      <td>VENTOR</td>\n",
       "    </tr>\n",
       "  </tbody>\n",
       "</table>\n",
       "</div>"
      ],
      "text/plain": [
       "   idaviso  idpais                            titulo  \\\n",
       "0  8725750       1  VENDEDOR/A PROVINCIA DE SANTA FE   \n",
       "\n",
       "                                         descripcion        nombre_zona  \\\n",
       "0  <p><strong><strong>Empresa:</strong></strong> ...  Gran Buenos Aires   \n",
       "\n",
       "  ciudad mapacalle tipo_de_trabajo         nivel_laboral nombre_area  \\\n",
       "0    NaN       NaN       Full-time  Senior / Semi-Senior   Comercial   \n",
       "\n",
       "  denominacion_empresa  \n",
       "0               VENTOR  "
      ]
     },
     "execution_count": 13,
     "metadata": {},
     "output_type": "execute_result"
    }
   ],
   "source": [
    "print len(avisos_detalles), '\\n'\n",
    "print 'Columnas con valores nulos:'\n",
    "print avisos_detalles.isnull().any(), '\\n'\n",
    "print 'Cantidad de valores nulos por columna'\n",
    "print avisos_detalles.isnull().sum(), '\\n'\n",
    "print avisos_detalles.dtypes\n",
    "avisos_detalles.head(1)"
   ]
  },
  {
   "cell_type": "code",
   "execution_count": 14,
   "metadata": {},
   "outputs": [
    {
     "name": "stdout",
     "output_type": "stream",
     "text": [
      "5\n"
     ]
    }
   ],
   "source": [
    "avisos_sin_empresa = avisos_detalles[avisos_detalles.denominacion_empresa.isnull()]\n",
    "print len(avisos_sin_empresa)\n",
    "# postulaciones_de_avisos_sin_empresa = pd.merge("
   ]
  },
  {
   "cell_type": "markdown",
   "metadata": {},
   "source": [
    "### Plots de postulaciones por usuario"
   ]
  },
  {
   "cell_type": "code",
   "execution_count": 16,
   "metadata": {},
   "outputs": [
    {
     "name": "stdout",
     "output_type": "stream",
     "text": [
      "155006    1\n",
      "40700     1\n",
      "15583     1\n",
      "159576    1\n",
      "15581     1\n",
      "Name: postulaciones_totales, dtype: int64\n",
      "17657     1213\n",
      "39789     1414\n",
      "21841     1485\n",
      "33610     1773\n",
      "131087    3166\n",
      "Name: postulaciones_totales, dtype: int64\n"
     ]
    }
   ],
   "source": [
    "postulaciones_por_usuario_filtrado = pd.DataFrame({\n",
    "    'postulaciones_totales': postulaciones_filtrado.groupby('idpostulante')['idaviso'].count(),\n",
    "}).reset_index()\n",
    "postulaciones_por_usuario_filtrado = postulaciones_por_usuario_filtrado.sort_values('postulaciones_totales')\n",
    "print postulaciones_por_usuario_filtrado.postulaciones_totales.head(5)\n",
    "print postulaciones_por_usuario_filtrado.postulaciones_totales.tail(5)"
   ]
  },
  {
   "cell_type": "code",
   "execution_count": 17,
   "metadata": {},
   "outputs": [
    {
     "data": {
      "text/plain": [
       "<matplotlib.axes._subplots.AxesSubplot at 0x7f87645e1b90>"
      ]
     },
     "execution_count": 17,
     "metadata": {},
     "output_type": "execute_result"
    },
    {
     "data": {
      "image/png": "[encoded data removed]",
      "text/plain": [
       "<Figure size 1500x500 with 1 Axes>"
      ]
     },
     "metadata": {},
     "output_type": "display_data"
    }
   ],
   "source": [
    "postulaciones_por_usuario_filtrado.plot(x='idpostulante', y='postulaciones_totales', kind='line')"
   ]
  },
  {
   "cell_type": "code",
   "execution_count": 19,
   "metadata": {},
   "outputs": [
    {
     "name": "stdout",
     "output_type": "stream",
     "text": [
      "59628     1\n",
      "137057    1\n",
      "40544     1\n",
      "40549     1\n",
      "94726     1\n",
      "Name: postulaciones_totales, dtype: int64\n",
      "19108     1213\n",
      "42947     1414\n",
      "23612     1485\n",
      "36281     1773\n",
      "141436    3166\n",
      "Name: postulaciones_totales, dtype: int64\n"
     ]
    },
    {
     "data": {
      "text/plain": [
       "200888"
      ]
     },
     "execution_count": 19,
     "metadata": {},
     "output_type": "execute_result"
    }
   ],
   "source": [
    "postulaciones_por_usuario_sin_filtro = pd.DataFrame({\n",
    "    'postulaciones_totales': postulaciones.groupby('idpostulante')['idaviso'].count(),\n",
    "}).reset_index()\n",
    "postulaciones_por_usuario_sin_filtro = postulaciones_por_usuario_sin_filtro.sort_values('postulaciones_totales')\n",
    "print postulaciones_por_usuario_sin_filtro.postulaciones_totales.head(5)\n",
    "print postulaciones_por_usuario_sin_filtro.postulaciones_totales.tail(5)\n",
    "len(postulaciones_por_usuario_sin_filtro)"
   ]
  },
  {
   "cell_type": "code",
   "execution_count": 20,
   "metadata": {},
   "outputs": [
    {
     "data": {
      "text/plain": [
       "<matplotlib.axes._subplots.AxesSubplot at 0x7f87259839d0>"
      ]
     },
     "execution_count": 20,
     "metadata": {},
     "output_type": "execute_result"
    },
    {
     "data": {
      "image/png": "[encoded data removed]",
      "text/plain": [
       "<Figure size 1500x500 with 1 Axes>"
      ]
     },
     "metadata": {},
     "output_type": "display_data"
    }
   ],
   "source": [
    "postulaciones_por_usuario_sin_filtro.plot(x='idpostulante', y='postulaciones_totales', kind='line')"
   ]
  },
  {
   "cell_type": "code",
   "execution_count": null,
   "metadata": {},
   "outputs": [],
   "source": [
    "# Como hacer un concat de series y eliminar duplicados\n",
    "# idaviso_post_sin_fecha_nacimiento = postulaciones_sin_fecha_nacimiento.idaviso\n",
    "# idaviso_visitas_sin_fecha_nacimiento = visitas_sin_fecha_nacimiento.idAviso\n",
    "# len(idaviso_post_sin_fecha_nacimiento)\n",
    "# len(idaviso_visitas_sin_fecha_nacimiento)\n",
    "# avisos_de_postulantes_sin_fecha_nacimiento = pd.concat([idaviso_post_sin_fecha_nacimiento, idaviso_visitas_sin_fecha_nacimiento], ignore_index=True)\n",
    "# avisos_de_postulantes_sin_fecha_nacimiento = avisos_de_postulantes_sin_fecha_nacimiento.drop_duplicates()"
   ]
  }
 ],
 "metadata": {
  "kernelspec": {
   "display_name": "Python 2",
   "language": "python",
   "name": "python2"
  },
  "language_info": {
   "codemirror_mode": {
    "name": "ipython",
    "version": 2
   },
   "file_extension": ".py",
   "mimetype": "text/x-python",
   "name": "python",
   "nbconvert_exporter": "python",
   "pygments_lexer": "ipython2",
   "version": "2.7.12"
  }
 },
 "nbformat": 4,
 "nbformat_minor": 2
}
