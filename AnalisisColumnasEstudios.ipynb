{
 "cells": [
  {
   "cell_type": "code",
   "execution_count": 2,
   "metadata": {},
   "outputs": [],
   "source": [
    "import datetime as datetime\n",
    "import pandas as pd\n",
    "import numpy as np\n",
    "import matplotlib.pyplot as plt\n",
    "%matplotlib inline\n",
    "plt.style.use('default') # Make the graphs a bit prettier\n",
    "plt.rcParams['figure.figsize'] = (15, 5)"
   ]
  },
  {
   "cell_type": "code",
   "execution_count": 3,
   "metadata": {},
   "outputs": [],
   "source": [
    "import os\n",
    "path_working_directory = os.getcwd()\n",
    "\n",
    "educacion = pd.read_csv(os.path.join(path_working_directory, \"datos_navent_fiuba\", \"fiuba_1_postulantes_educacion.csv\"), low_memory=False)\n",
    "genero_edad = pd.read_csv(os.path.join(path_working_directory, \"datos_navent_fiuba\", \"fiuba_2_postulantes_genero_y_edad.csv\"), low_memory=False)\n",
    "visitas = pd.read_csv(os.path.join(path_working_directory, \"datos_navent_fiuba\", \"fiuba_3_vistas.csv\"), low_memory=False)\n",
    "postulaciones = pd.read_csv(os.path.join(path_working_directory, \"datos_navent_fiuba\", \"fiuba_4_postulaciones.csv\"), low_memory=False)\n",
    "avisos_online = pd.read_csv(os.path.join(path_working_directory, \"datos_navent_fiuba\", \"fiuba_5_avisos_online.csv\"), low_memory=False)\n",
    "avisos_detalles = pd.read_csv(os.path.join(path_working_directory, \"datos_navent_fiuba\", \"fiuba_6_avisos_detalle.csv\"), low_memory=False)"
   ]
  },
  {
   "cell_type": "code",
   "execution_count": 82,
   "metadata": {},
   "outputs": [
    {
     "name": "stdout",
     "output_type": "stream",
     "text": [
      "200888 \n",
      "\n",
      "True \n",
      "\n",
      "idpostulante       False\n",
      "fechanacimiento     True\n",
      "sexo               False\n",
      "dtype: bool \n",
      "\n",
      "idpostulante          0\n",
      "fechanacimiento    4750\n",
      "sexo                  0\n",
      "dtype: int64 \n",
      "\n",
      "idpostulante       object\n",
      "fechanacimiento    object\n",
      "sexo               object\n",
      "dtype: object\n",
      "4750 \n",
      "\n",
      "Postulaciones de usuarios sin fecha de nacimiento 44464 de 3401623 \n",
      "\n",
      "Visitas de usuarios sin fecha de nacimiento 22767 de 961897\n"
     ]
    }
   ],
   "source": [
    "import calendar\n",
    "print \"Cantidad de postulantes:\", len(genero_edad), '\\n'\n",
    "print \"Los postulantes son unicos:\", len(genero_edad) == len(genero_edad.groupby('idpostulante')), '\\n'\n",
    "print genero_edad.isnull().any(), '\\n'\n",
    "print genero_edad.isnull().sum(), '\\n'\n",
    "print genero_edad.dtypes\n",
    "no_declaran_edad = genero_edad[genero_edad['fechanacimiento'].isnull()]\n",
    "print len(no_declaran_edad), '\\n'\n",
    "postulaciones_sin_fecha_nacimiento = pd.merge(no_declaran_edad, postulaciones, how='inner', on='idpostulante')\n",
    "print \"Postulaciones de usuarios sin fecha de nacimiento\", len(postulaciones_sin_fecha_nacimiento), \"de\", len(postulaciones), '\\n'\n",
    "visitas_sin_fecha_nacimiento = pd.merge(no_declaran_edad, visitas, how='inner', on='idpostulante')\n",
    "print \"Visitas de usuarios sin fecha de nacimiento\", len(visitas_sin_fecha_nacimiento), \"de\", len(visitas)"
   ]
  },
  {
   "cell_type": "code",
   "execution_count": 4,
   "metadata": {},
   "outputs": [
    {
     "name": "stdout",
     "output_type": "stream",
     "text": [
      "961897 \n",
      "\n",
      "idAviso         False\n",
      "timestamp       False\n",
      "idpostulante    False\n",
      "dtype: bool \n",
      "\n",
      "idAviso          int64\n",
      "timestamp       object\n",
      "idpostulante    object\n",
      "dtype: object\n"
     ]
    }
   ],
   "source": [
    "print len(visitas), '\\n'\n",
    "print visitas.isnull().any(), '\\n'\n",
    "print visitas.dtypes"
   ]
  },
  {
   "cell_type": "code",
   "execution_count": 5,
   "metadata": {},
   "outputs": [
    {
     "name": "stdout",
     "output_type": "stream",
     "text": [
      "3401623 \n",
      "\n",
      "idaviso             False\n",
      "idpostulante        False\n",
      "fechapostulacion    False\n",
      "dtype: bool \n",
      "\n",
      "idaviso              int64\n",
      "idpostulante        object\n",
      "fechapostulacion    object\n",
      "dtype: object\n"
     ]
    }
   ],
   "source": [
    "print len(postulaciones), '\\n'\n",
    "print postulaciones.isnull().any(), '\\n'\n",
    "print postulaciones.dtypes"
   ]
  },
  {
   "cell_type": "code",
   "execution_count": 6,
   "metadata": {},
   "outputs": [
    {
     "name": "stdout",
     "output_type": "stream",
     "text": [
      "5028 \n",
      "\n",
      "idaviso    False\n",
      "dtype: bool \n",
      "\n",
      "idaviso    int64\n",
      "dtype: object\n"
     ]
    }
   ],
   "source": [
    "print len(avisos_online), '\\n'\n",
    "print avisos_online.isnull().any(), '\\n'\n",
    "print avisos_online.dtypes"
   ]
  },
  {
   "cell_type": "code",
   "execution_count": 4,
   "metadata": {},
   "outputs": [
    {
     "name": "stdout",
     "output_type": "stream",
     "text": [
      "13534 \n",
      "\n",
      "Columnas con valores nulos:\n",
      "idaviso                 False\n",
      "idpais                  False\n",
      "titulo                  False\n",
      "descripcion             False\n",
      "nombre_zona             False\n",
      "ciudad                   True\n",
      "mapacalle                True\n",
      "tipo_de_trabajo         False\n",
      "nivel_laboral           False\n",
      "nombre_area             False\n",
      "denominacion_empresa     True\n",
      "dtype: bool \n",
      "\n",
      "Cantidad de valores nulos por columna\n",
      "idaviso                     0\n",
      "idpais                      0\n",
      "titulo                      0\n",
      "descripcion                 0\n",
      "nombre_zona                 0\n",
      "ciudad                  13487\n",
      "mapacalle               12662\n",
      "tipo_de_trabajo             0\n",
      "nivel_laboral               0\n",
      "nombre_area                 0\n",
      "denominacion_empresa        5\n",
      "dtype: int64 \n",
      "\n",
      "idaviso                  int64\n",
      "idpais                   int64\n",
      "titulo                  object\n",
      "descripcion             object\n",
      "nombre_zona             object\n",
      "ciudad                  object\n",
      "mapacalle               object\n",
      "tipo_de_trabajo         object\n",
      "nivel_laboral           object\n",
      "nombre_area             object\n",
      "denominacion_empresa    object\n",
      "dtype: object\n"
     ]
    },
    {
     "data": {
      "text/html": [
       "<div>\n",
       "<style>\n",
       "    .dataframe thead tr:only-child th {\n",
       "        text-align: right;\n",
       "    }\n",
       "\n",
       "    .dataframe thead th {\n",
       "        text-align: left;\n",
       "    }\n",
       "\n",
       "    .dataframe tbody tr th {\n",
       "        vertical-align: top;\n",
       "    }\n",
       "</style>\n",
       "<table border=\"1\" class=\"dataframe\">\n",
       "  <thead>\n",
       "    <tr style=\"text-align: right;\">\n",
       "      <th></th>\n",
       "      <th>idaviso</th>\n",
       "      <th>idpais</th>\n",
       "      <th>titulo</th>\n",
       "      <th>descripcion</th>\n",
       "      <th>nombre_zona</th>\n",
       "      <th>ciudad</th>\n",
       "      <th>mapacalle</th>\n",
       "      <th>tipo_de_trabajo</th>\n",
       "      <th>nivel_laboral</th>\n",
       "      <th>nombre_area</th>\n",
       "      <th>denominacion_empresa</th>\n",
       "    </tr>\n",
       "  </thead>\n",
       "  <tbody>\n",
       "    <tr>\n",
       "      <th>0</th>\n",
       "      <td>8725750</td>\n",
       "      <td>1</td>\n",
       "      <td>VENDEDOR/A PROVINCIA DE SANTA FE</td>\n",
       "      <td>&lt;p&gt;&lt;strong&gt;&lt;strong&gt;Empresa:&lt;/strong&gt;&lt;/strong&gt; ...</td>\n",
       "      <td>Gran Buenos Aires</td>\n",
       "      <td>NaN</td>\n",
       "      <td>NaN</td>\n",
       "      <td>Full-time</td>\n",
       "      <td>Senior / Semi-Senior</td>\n",
       "      <td>Comercial</td>\n",
       "      <td>VENTOR</td>\n",
       "    </tr>\n",
       "  </tbody>\n",
       "</table>\n",
       "</div>"
      ],
      "text/plain": [
       "   idaviso  idpais                            titulo  \\\n",
       "0  8725750       1  VENDEDOR/A PROVINCIA DE SANTA FE   \n",
       "\n",
       "                                         descripcion        nombre_zona  \\\n",
       "0  <p><strong><strong>Empresa:</strong></strong> ...  Gran Buenos Aires   \n",
       "\n",
       "  ciudad mapacalle tipo_de_trabajo         nivel_laboral nombre_area  \\\n",
       "0    NaN       NaN       Full-time  Senior / Semi-Senior   Comercial   \n",
       "\n",
       "  denominacion_empresa  \n",
       "0               VENTOR  "
      ]
     },
     "execution_count": 4,
     "metadata": {},
     "output_type": "execute_result"
    }
   ],
   "source": [
    "print len(avisos_detalles), '\\n'\n",
    "print 'Columnas con valores nulos:'\n",
    "print avisos_detalles.isnull().any(), '\\n'\n",
    "print 'Cantidad de valores nulos por columna'\n",
    "print avisos_detalles.isnull().sum(), '\\n'\n",
    "print avisos_detalles.dtypes\n",
    "avisos_detalles.head(1)"
   ]
  },
  {
   "cell_type": "code",
   "execution_count": 71,
   "metadata": {},
   "outputs": [
    {
     "name": "stdout",
     "output_type": "stream",
     "text": [
      "idpostulante    False\n",
      "nombre          False\n",
      "estado          False\n",
      "dtype: bool \n",
      "\n",
      "       idpostulante      nombre    estado\n",
      "count        298231      298231    298231\n",
      "unique       188752           7         3\n",
      "top          YlMLGD  Secundario  Graduado\n",
      "freq              9      110256    194474 \n",
      "\n",
      "idpostulante    object\n",
      "nombre          object\n",
      "estado          object\n",
      "dtype: object \n",
      "\n"
     ]
    },
    {
     "data": {
      "text/html": [
       "<div>\n",
       "<style>\n",
       "    .dataframe thead tr:only-child th {\n",
       "        text-align: right;\n",
       "    }\n",
       "\n",
       "    .dataframe thead th {\n",
       "        text-align: left;\n",
       "    }\n",
       "\n",
       "    .dataframe tbody tr th {\n",
       "        vertical-align: top;\n",
       "    }\n",
       "</style>\n",
       "<table border=\"1\" class=\"dataframe\">\n",
       "  <thead>\n",
       "    <tr style=\"text-align: right;\">\n",
       "      <th></th>\n",
       "      <th>idpostulante</th>\n",
       "      <th>nombre</th>\n",
       "      <th>estado</th>\n",
       "    </tr>\n",
       "  </thead>\n",
       "  <tbody>\n",
       "    <tr>\n",
       "      <th>373</th>\n",
       "      <td>YlMLGD</td>\n",
       "      <td>Terciario/Técnico</td>\n",
       "      <td>En Curso</td>\n",
       "    </tr>\n",
       "    <tr>\n",
       "      <th>374</th>\n",
       "      <td>YlMLGD</td>\n",
       "      <td>Otro</td>\n",
       "      <td>En Curso</td>\n",
       "    </tr>\n",
       "    <tr>\n",
       "      <th>375</th>\n",
       "      <td>YlMLGD</td>\n",
       "      <td>Universitario</td>\n",
       "      <td>En Curso</td>\n",
       "    </tr>\n",
       "    <tr>\n",
       "      <th>2206</th>\n",
       "      <td>YlMLGD</td>\n",
       "      <td>Terciario/Técnico</td>\n",
       "      <td>Graduado</td>\n",
       "    </tr>\n",
       "    <tr>\n",
       "      <th>2207</th>\n",
       "      <td>YlMLGD</td>\n",
       "      <td>Universitario</td>\n",
       "      <td>Graduado</td>\n",
       "    </tr>\n",
       "    <tr>\n",
       "      <th>2208</th>\n",
       "      <td>YlMLGD</td>\n",
       "      <td>Otro</td>\n",
       "      <td>Graduado</td>\n",
       "    </tr>\n",
       "    <tr>\n",
       "      <th>2209</th>\n",
       "      <td>YlMLGD</td>\n",
       "      <td>Posgrado</td>\n",
       "      <td>Graduado</td>\n",
       "    </tr>\n",
       "    <tr>\n",
       "      <th>3659</th>\n",
       "      <td>YlMLGD</td>\n",
       "      <td>Universitario</td>\n",
       "      <td>Abandonado</td>\n",
       "    </tr>\n",
       "    <tr>\n",
       "      <th>3660</th>\n",
       "      <td>YlMLGD</td>\n",
       "      <td>Terciario/Técnico</td>\n",
       "      <td>Abandonado</td>\n",
       "    </tr>\n",
       "  </tbody>\n",
       "</table>\n",
       "</div>"
      ],
      "text/plain": [
       "     idpostulante             nombre      estado\n",
       "373        YlMLGD  Terciario/Técnico    En Curso\n",
       "374        YlMLGD               Otro    En Curso\n",
       "375        YlMLGD      Universitario    En Curso\n",
       "2206       YlMLGD  Terciario/Técnico    Graduado\n",
       "2207       YlMLGD      Universitario    Graduado\n",
       "2208       YlMLGD               Otro    Graduado\n",
       "2209       YlMLGD           Posgrado    Graduado\n",
       "3659       YlMLGD      Universitario  Abandonado\n",
       "3660       YlMLGD  Terciario/Técnico  Abandonado"
      ]
     },
     "execution_count": 71,
     "metadata": {},
     "output_type": "execute_result"
    }
   ],
   "source": [
    "print educacion.isnull().any(), '\\n'\n",
    "print educacion.describe(include='all'), '\\n'\n",
    "print educacion.dtypes, '\\n'\n",
    "educacion[educacion['idpostulante'] == 'YlMLGD']"
   ]
  },
  {
   "cell_type": "code",
   "execution_count": 51,
   "metadata": {},
   "outputs": [],
   "source": [
    "#Como se puede observar, algunos postulantes tienen mas de una entrada de educacion\n",
    "#Por ello, crearemos un nuevo dataframe que tenga una entrada por postulante en el \n",
    "#cual las columnas seran idpostulante, en_curso y graduado. En las columnas en_curso\n",
    "#y graduado se indicara el estudio mas importante que se encuentra (o encontraba, dado\n",
    "#que no podemos saber si el mismo sigue o no en ese estado) en el estado indicado por\n",
    "#el nombre de la columna\n",
    "# print educacion.nombre.value_counts(), '\\n'\n",
    "# print educacion.estado.value_counts(), '\\n'\n",
    "# tipos_de_estudio = ['', 'Otro', 'Secundario', 'Terciario/Técnico', 'Universitario', 'Master', 'Posgrado', 'Doctorado']\n",
    "# def get_dict_tipos_de_estudio():\n",
    "#     dict = {}\n",
    "#     for x in range(len(tipos_de_estudio)):\n",
    "#         dict[tipos_de_estudio[x]] = x\n",
    "#     return dict\n",
    "# dict_tipos_de_estudio = get_dict_tipos_de_estudio()\n",
    "# def mejor_estudio(estudio1, estudio2):\n",
    "#     return tipos_de_estudio[max(tipos_de_estudio.index(estudio1), tipos_de_estudio.index(estudio2))]\n",
    "\n",
    "# en_curso = educacion.apply(lambda x: x['nombre'] if x['estado'] == 'En Curso' else '', axis=1)\n",
    "# graduado = educacion.apply(lambda x: x['nombre'] if x['estado'] == 'Graduado' else '', axis=1)\n",
    "# educacion2 = educacion.assign(estudio_en_curso=en_curso)\n",
    "# educacion2 = educacion2.assign(estudio_graduado=graduado)\n",
    "# educacion2[educacion2['estudio_graduado'] != '']\n",
    "# educacion2.groupby('idpostulante').get_group('YlMLGD')\n",
    "# educacion_groups = educacion2.groupby('idpostulante')\n",
    "# educacion_groups = educacion_groups['estudio_en_curso'].unique()\n",
    "# # # educacion_groups['estudio_en_curso'].unique()\n",
    "# educacion_groups.reset_index(inplace=True)"
   ]
  },
  {
   "cell_type": "code",
   "execution_count": 58,
   "metadata": {},
   "outputs": [],
   "source": [
    "tipos_de_estudio = ['', 'Otro', 'Secundario', 'Terciario/Técnico', 'Universitario', 'Master', 'Posgrado', 'Doctorado']\n",
    "def get_dict_tipos_de_estudio():\n",
    "    dict = {}\n",
    "    for x in range(len(tipos_de_estudio)):\n",
    "        dict[tipos_de_estudio[x]] = x\n",
    "    return dict\n",
    "\n",
    "dict_tipos_de_estudio = get_dict_tipos_de_estudio()\n",
    "\n",
    "def mejor_estudio(estudio1, estudio2):\n",
    "    return tipos_de_estudio[max(tipos_de_estudio.index(estudio1), tipos_de_estudio.index(estudio2))]\n",
    "\n",
    "en_curso = educacion.apply(lambda x: dict_tipos_de_estudio[x['nombre']] if x['estado'] == 'En Curso' else 0, axis=1)\n",
    "graduado = educacion.apply(lambda x: dict_tipos_de_estudio[x['nombre']] if x['estado'] == 'Graduado' else 0, axis=1)\n",
    "educacion2 = educacion.assign(estudio_en_curso=en_curso)\n",
    "educacion2 = educacion2.assign(estudio_graduado=graduado)"
   ]
  },
  {
   "cell_type": "code",
   "execution_count": 80,
   "metadata": {},
   "outputs": [
    {
     "data": {
      "text/html": [
       "<div>\n",
       "<style>\n",
       "    .dataframe thead tr:only-child th {\n",
       "        text-align: right;\n",
       "    }\n",
       "\n",
       "    .dataframe thead th {\n",
       "        text-align: left;\n",
       "    }\n",
       "\n",
       "    .dataframe tbody tr th {\n",
       "        vertical-align: top;\n",
       "    }\n",
       "</style>\n",
       "<table border=\"1\" class=\"dataframe\">\n",
       "  <thead>\n",
       "    <tr style=\"text-align: right;\">\n",
       "      <th></th>\n",
       "      <th>idpostulante</th>\n",
       "      <th>estudio_en_curso</th>\n",
       "      <th>estudio_graduado</th>\n",
       "    </tr>\n",
       "  </thead>\n",
       "  <tbody>\n",
       "    <tr>\n",
       "      <th>117605</th>\n",
       "      <td>YlMLGD</td>\n",
       "      <td></td>\n",
       "      <td>Posgrado</td>\n",
       "    </tr>\n",
       "  </tbody>\n",
       "</table>\n",
       "</div>"
      ],
      "text/plain": [
       "       idpostulante estudio_en_curso estudio_graduado\n",
       "117605       YlMLGD                          Posgrado"
      ]
     },
     "execution_count": 80,
     "metadata": {},
     "output_type": "execute_result"
    }
   ],
   "source": [
    "educacion_grupos = educacion2.groupby('idpostulante')\n",
    "educacion_nueva = pd.DataFrame({\n",
    "    'estudio_en_curso': educacion_grupos['estudio_en_curso'].max(),\n",
    "    'estudio_graduado': educacion_grupos['estudio_graduado'].max()\n",
    "}).reset_index()\n",
    "# educacion_nueva['estudio_en_curso'] = educacion_nueva['estudio_en_curso'].apply(lambda x: tipos_de_estudio[x])\n",
    "educacion_nueva['estudio_en_curso'] = educacion_nueva.apply(lambda x: tipos_de_estudio[x['estudio_en_curso']] if x['estudio_en_curso'] > x['estudio_graduado'] else '', axis=1)\n",
    "educacion_nueva['estudio_graduado'] = educacion_nueva['estudio_graduado'].apply(lambda x: tipos_de_estudio[x])\n",
    "educacion_nueva[educacion_nueva['idpostulante'] == 'YlMLGD']"
   ]
  },
  {
   "cell_type": "code",
   "execution_count": null,
   "metadata": {},
   "outputs": [],
   "source": []
  }
 ],
 "metadata": {
  "kernelspec": {
   "display_name": "Python 2",
   "language": "python",
   "name": "python2"
  },
  "language_info": {
   "codemirror_mode": {
    "name": "ipython",
    "version": 2
   },
   "file_extension": ".py",
   "mimetype": "text/x-python",
   "name": "python",
   "nbconvert_exporter": "python",
   "pygments_lexer": "ipython2",
   "version": "2.7.12"
  }
 },
 "nbformat": 4,
 "nbformat_minor": 2
}
