{
 "cells": [
  {
   "cell_type": "code",
   "execution_count": 1,
   "metadata": {},
   "outputs": [],
   "source": [
    "import pandas as pd\n",
    "import numpy as np\n",
    "import math\n",
    "%matplotlib inline"
   ]
  },
  {
   "cell_type": "code",
   "execution_count": 2,
   "metadata": {},
   "outputs": [],
   "source": [
    "import os\n",
    "path_working_directory = os.getcwd()"
   ]
  },
  {
   "cell_type": "code",
   "execution_count": 3,
   "metadata": {},
   "outputs": [],
   "source": [
    "def get_dict_of_categorical_col(df, col_name):\n",
    "    values = np.unique(df[col_name].values).tolist()\n",
    "    values_dict = {}\n",
    "    for i in range(len(values)):\n",
    "        values_dict[values[i]] = i + 1\n",
    "    return values_dict\n",
    "\n",
    "def binary_codification_column(df, col, cant_cols):\n",
    "    col_dict = get_dict_of_categorical_col(df, col)\n",
    "    cols = [col + \"_bit_\" + str(i) for i in range(8)][::-1]\n",
    "    def get_cols_bits(value):\n",
    "        n = col_dict[value]\n",
    "        n_binary = \"{0:b}\".format(n).zfill(cant_cols)\n",
    "        tmp = [n_binary[i] for i in range(cant_cols)]\n",
    "        return pd.Series(tmp,index=cols)\n",
    "    df[cols] = df[col].apply(get_cols_bits)\n",
    "    return df.drop(col,axis=1)"
   ]
  },
  {
   "cell_type": "markdown",
   "metadata": {},
   "source": [
    "# Pre procesamiento"
   ]
  },
  {
   "cell_type": "markdown",
   "metadata": {},
   "source": [
    "## Df Avisos"
   ]
  },
  {
   "cell_type": "code",
   "execution_count": 4,
   "metadata": {},
   "outputs": [],
   "source": [
    "avisos_detalles = pd.read_csv(os.path.join(path_working_directory, \"datos_navent_fiuba\", \"fiuba_6_avisos_detalle.csv\"), low_memory=False)\n",
    "avisos_detallesE6 = pd.read_csv(os.path.join(path_working_directory, \"entrega6\", \"fiuba_6_avisos_detalle.csv\"), low_memory=False)\n",
    "avisos_detalles15A = pd.read_csv(os.path.join(path_working_directory, \"Fiuba desde 15 Abril\", \"fiuba_6_avisos_detalle.csv\"), low_memory=False)\n",
    "avisos_faltantes = pd.read_csv(os.path.join(path_working_directory, \"fiuba_6_avisos_detalle_missing_nivel_laboral.csv\"), low_memory=False)\n",
    "\n",
    "avisos_detalles_comb = avisos_detalles.append(avisos_detalles15A)\n",
    "avisos_detalles_comb = avisos_detalles_comb.append(avisos_detallesE6)\n",
    "avisos_detalles_comb = avisos_detalles_comb.append(avisos_faltantes)"
   ]
  },
  {
   "cell_type": "code",
   "execution_count": 5,
   "metadata": {},
   "outputs": [],
   "source": [
    "avisos_detalles_comb = avisos_detalles_comb.drop_duplicates(subset='idaviso', keep='last')"
   ]
  },
  {
   "cell_type": "code",
   "execution_count": 6,
   "metadata": {},
   "outputs": [],
   "source": [
    "del avisos_detalles\n",
    "del avisos_detalles15A\n",
    "del avisos_detallesE6\n",
    "del avisos_faltantes"
   ]
  },
  {
   "cell_type": "code",
   "execution_count": 7,
   "metadata": {},
   "outputs": [],
   "source": [
    "#Dropeamos estas dos columnas dado que no aportan informacion, en la mayoria de los datos se encuentran incompletas\n",
    "avisos_detalles_comb.drop('ciudad', axis=1, inplace=True)\n",
    "avisos_detalles_comb.drop('mapacalle', axis=1, inplace=True)"
   ]
  },
  {
   "cell_type": "code",
   "execution_count": 8,
   "metadata": {},
   "outputs": [],
   "source": [
    "from nltk import word_tokenize\n",
    "from string import punctuation\n",
    "from nltk.corpus import stopwords\n",
    "from bs4 import BeautifulSoup\n",
    "\n",
    "#Funcion para eliminar las stopwords y aquellos caracteres que no sean letras de un texto\n",
    "#Devuelve una lista con todas las palabras en el texto\n",
    "def tokenize(string):\n",
    "    stops = stopwords.words('spanish')\n",
    "    non_letters = list(punctuation)\n",
    "    non_letters.extend(['¡','¿']) #Agregamos los signos de cierre que faltan en la lista\n",
    "    non_letters.extend(map(str,range(10))) #Agregamos los numeros  \n",
    "    text = \"\".join([w for w in string if w not in non_letters])\n",
    "    text = filter(lambda x: len(x)>0 and x not in stops, map(lambda x: x.lower().strip(),text.split(' ')))\n",
    "    return word_tokenize(\" \".join(text))\n",
    "\n",
    "#Funcion para extraer solamente las palabras de un aviso\n",
    "def extract_html(string):\n",
    "    string_without_html = BeautifulSoup(string,\"lxml\")\n",
    "    return tokenize(string_without_html.text.lower())\n"
   ]
  },
  {
   "cell_type": "code",
   "execution_count": 9,
   "metadata": {},
   "outputs": [
    {
     "name": "stderr",
     "output_type": "stream",
     "text": [
      "/usr/local/lib/python2.7/dist-packages/ipykernel_launcher.py:13: UnicodeWarning: Unicode equal comparison failed to convert both arguments to Unicode - interpreting them as being unequal\n",
      "  del sys.path[0]\n",
      "/usr/local/lib/python2.7/dist-packages/ipykernel_launcher.py:14: UnicodeWarning: Unicode equal comparison failed to convert both arguments to Unicode - interpreting them as being unequal\n",
      "  \n"
     ]
    }
   ],
   "source": [
    "avisos_detalles_comb['descripcion'] = avisos_detalles_comb.descripcion.apply(extract_html)\n",
    "avisos_detalles_comb['titulo'] = avisos_detalles_comb.titulo.apply(tokenize)"
   ]
  },
  {
   "cell_type": "code",
   "execution_count": 10,
   "metadata": {},
   "outputs": [
    {
     "data": {
      "text/html": [
       "<div>\n",
       "<style>\n",
       "    .dataframe thead tr:only-child th {\n",
       "        text-align: right;\n",
       "    }\n",
       "\n",
       "    .dataframe thead th {\n",
       "        text-align: left;\n",
       "    }\n",
       "\n",
       "    .dataframe tbody tr th {\n",
       "        vertical-align: top;\n",
       "    }\n",
       "</style>\n",
       "<table border=\"1\" class=\"dataframe\">\n",
       "  <thead>\n",
       "    <tr style=\"text-align: right;\">\n",
       "      <th></th>\n",
       "      <th>idaviso</th>\n",
       "      <th>idpais</th>\n",
       "      <th>titulo</th>\n",
       "      <th>descripcion</th>\n",
       "      <th>nombre_zona</th>\n",
       "      <th>tipo_de_trabajo</th>\n",
       "      <th>nivel_laboral</th>\n",
       "      <th>nombre_area</th>\n",
       "      <th>denominacion_empresa</th>\n",
       "    </tr>\n",
       "  </thead>\n",
       "  <tbody>\n",
       "    <tr>\n",
       "      <th>4</th>\n",
       "      <td>1000872556</td>\n",
       "      <td>1</td>\n",
       "      <td>[operarios, planta, rubro, electrodomésticos]</td>\n",
       "      <td>[operarios, plantanos, encontramos, búsqueda, ...</td>\n",
       "      <td>Gran Buenos Aires</td>\n",
       "      <td>Full-time</td>\n",
       "      <td>Senior / Semi-Senior</td>\n",
       "      <td>Producción</td>\n",
       "      <td>ELECTRO OUTLET SRL</td>\n",
       "    </tr>\n",
       "    <tr>\n",
       "      <th>8</th>\n",
       "      <td>9240880</td>\n",
       "      <td>1</td>\n",
       "      <td>[productores, asesores, independiente, ventas,...</td>\n",
       "      <td>[agente, oficial, selecciona, nuestra, búsqued...</td>\n",
       "      <td>Capital Federal</td>\n",
       "      <td>Full-time</td>\n",
       "      <td>Jefe / Supervisor / Responsable</td>\n",
       "      <td>Comercial</td>\n",
       "      <td>Agencia Oficial Alejandro Arizaga</td>\n",
       "    </tr>\n",
       "    <tr>\n",
       "      <th>19</th>\n",
       "      <td>1110185164</td>\n",
       "      <td>1</td>\n",
       "      <td>[administrativo, recepción]</td>\n",
       "      <td>[centro, médico, accord, encuentra, búsqueda, ...</td>\n",
       "      <td>Gran Buenos Aires</td>\n",
       "      <td>Full-time</td>\n",
       "      <td>Junior</td>\n",
       "      <td>Administración</td>\n",
       "      <td>Unión Personal</td>\n",
       "    </tr>\n",
       "    <tr>\n",
       "      <th>21</th>\n",
       "      <td>1110513885</td>\n",
       "      <td>1</td>\n",
       "      <td>[distribuidor, domiciliario, moto, san, miguel]</td>\n",
       "      <td>[importante, correo, privado, ubicado, san, mi...</td>\n",
       "      <td>Gran Buenos Aires</td>\n",
       "      <td>Full-time</td>\n",
       "      <td>Junior</td>\n",
       "      <td>Distribución</td>\n",
       "      <td>Asoko Tempo SA</td>\n",
       "    </tr>\n",
       "    <tr>\n",
       "      <th>32</th>\n",
       "      <td>1111034024</td>\n",
       "      <td>1</td>\n",
       "      <td>[vendedores, venta, medicina, pre, paga, obra,...</td>\n",
       "      <td>[comercializadora, incorpora, vendedores, vent...</td>\n",
       "      <td>Gran Buenos Aires</td>\n",
       "      <td>Full-time</td>\n",
       "      <td>Senior / Semi-Senior</td>\n",
       "      <td>Comercial</td>\n",
       "      <td>JELS SRL</td>\n",
       "    </tr>\n",
       "  </tbody>\n",
       "</table>\n",
       "</div>"
      ],
      "text/plain": [
       "       idaviso  idpais                                             titulo  \\\n",
       "4   1000872556       1      [operarios, planta, rubro, electrodomésticos]   \n",
       "8      9240880       1  [productores, asesores, independiente, ventas,...   \n",
       "19  1110185164       1                        [administrativo, recepción]   \n",
       "21  1110513885       1    [distribuidor, domiciliario, moto, san, miguel]   \n",
       "32  1111034024       1  [vendedores, venta, medicina, pre, paga, obra,...   \n",
       "\n",
       "                                          descripcion        nombre_zona  \\\n",
       "4   [operarios, plantanos, encontramos, búsqueda, ...  Gran Buenos Aires   \n",
       "8   [agente, oficial, selecciona, nuestra, búsqued...    Capital Federal   \n",
       "19  [centro, médico, accord, encuentra, búsqueda, ...  Gran Buenos Aires   \n",
       "21  [importante, correo, privado, ubicado, san, mi...  Gran Buenos Aires   \n",
       "32  [comercializadora, incorpora, vendedores, vent...  Gran Buenos Aires   \n",
       "\n",
       "   tipo_de_trabajo                    nivel_laboral     nombre_area  \\\n",
       "4        Full-time             Senior / Semi-Senior      Producción   \n",
       "8        Full-time  Jefe / Supervisor / Responsable       Comercial   \n",
       "19       Full-time                           Junior  Administración   \n",
       "21       Full-time                           Junior    Distribución   \n",
       "32       Full-time             Senior / Semi-Senior       Comercial   \n",
       "\n",
       "                 denominacion_empresa  \n",
       "4                  ELECTRO OUTLET SRL  \n",
       "8   Agencia Oficial Alejandro Arizaga  \n",
       "19                     Unión Personal  \n",
       "21                     Asoko Tempo SA  \n",
       "32                           JELS SRL  "
      ]
     },
     "execution_count": 10,
     "metadata": {},
     "output_type": "execute_result"
    }
   ],
   "source": [
    "avisos_detalles_comb.head()"
   ]
  },
  {
   "cell_type": "code",
   "execution_count": 11,
   "metadata": {},
   "outputs": [],
   "source": [
    "avisos_detalles_comb.to_pickle(\"pickles/avisos_detalles_comb_sin_features_des_tit\")"
   ]
  },
  {
   "cell_type": "code",
   "execution_count": 12,
   "metadata": {},
   "outputs": [
    {
     "name": "stderr",
     "output_type": "stream",
     "text": [
      "/usr/local/lib/python2.7/dist-packages/ipykernel_launcher.py:5: UnicodeWarning: Unicode equal comparison failed to convert both arguments to Unicode - interpreting them as being unequal\n",
      "  \"\"\"\n"
     ]
    }
   ],
   "source": [
    "#definimos una lista de palabras que consideramos positivas y que pueden atraer a los usuarios\n",
    "#se podria utilizar un tf-idf para determinar estas palabras\n",
    "features_text = [\"crecimiento\", \"cálido\", \"multinacional\", \"desafío\", \"jóven\", \"experimentado\", \"flexible\", \"flexibilidad\"]\n",
    "for i, feature in enumerate(features_text):\n",
    "    avisos_detalles_comb[\"ft_{}\".format(i)] = avisos_detalles_comb.descripcion.apply(lambda x: 1 if feature in x else 0)"
   ]
  },
  {
   "cell_type": "code",
   "execution_count": 13,
   "metadata": {},
   "outputs": [],
   "source": [
    "avisos_detalles_comb.to_pickle(\"pickles/avisos_detalles_comb_con_features_des_tit\")"
   ]
  },
  {
   "cell_type": "code",
   "execution_count": 4,
   "metadata": {},
   "outputs": [],
   "source": [
    "avisos = pd.read_pickle(\"pickles/avisos_detalles_comb_con_features_des_tit\")"
   ]
  },
  {
   "cell_type": "code",
   "execution_count": 5,
   "metadata": {},
   "outputs": [],
   "source": [
    "avisos = binary_codification_column(avisos, 'nombre_area', 8)"
   ]
  },
  {
   "cell_type": "code",
   "execution_count": 6,
   "metadata": {},
   "outputs": [],
   "source": [
    "#Se desea realizar one hot encoding\n",
    "#Debido a la escasa cantidad de datos en varias zonas, se las une para evitar\n",
    "#agregar dimensiones de mas al set de datos\n",
    "def reducir_nombre_zona(nombre):\n",
    "    if nombre == \"Gran Buenos Aires\" or nombre == \"GBA Oeste\":\n",
    "        return \"Gran Buenos Aires\"\n",
    "    if nombre == \"Buenos Aires (fuera de GBA)\" or nombre == \"La Plata\":\n",
    "        return \"Buenos Aires (fuera de GBA)\"\n",
    "    if nombre == \"Capital Federal\":\n",
    "        return \"Capital Federal\"\n",
    "    return \"Interior\"\n",
    "\n",
    "avisos['nombre_zona'] = avisos['nombre_zona'].apply(reducir_nombre_zona)"
   ]
  },
  {
   "cell_type": "code",
   "execution_count": 7,
   "metadata": {},
   "outputs": [
    {
     "data": {
      "text/html": [
       "<div>\n",
       "<style>\n",
       "    .dataframe thead tr:only-child th {\n",
       "        text-align: right;\n",
       "    }\n",
       "\n",
       "    .dataframe thead th {\n",
       "        text-align: left;\n",
       "    }\n",
       "\n",
       "    .dataframe tbody tr th {\n",
       "        vertical-align: top;\n",
       "    }\n",
       "</style>\n",
       "<table border=\"1\" class=\"dataframe\">\n",
       "  <thead>\n",
       "    <tr style=\"text-align: right;\">\n",
       "      <th></th>\n",
       "      <th>idaviso</th>\n",
       "      <th>idpais</th>\n",
       "      <th>titulo</th>\n",
       "      <th>descripcion</th>\n",
       "      <th>nombre_zona</th>\n",
       "      <th>tipo_de_trabajo</th>\n",
       "      <th>nivel_laboral</th>\n",
       "      <th>denominacion_empresa</th>\n",
       "      <th>ft_0</th>\n",
       "      <th>ft_1</th>\n",
       "      <th>...</th>\n",
       "      <th>ft_6</th>\n",
       "      <th>ft_7</th>\n",
       "      <th>nombre_area_bit_7</th>\n",
       "      <th>nombre_area_bit_6</th>\n",
       "      <th>nombre_area_bit_5</th>\n",
       "      <th>nombre_area_bit_4</th>\n",
       "      <th>nombre_area_bit_3</th>\n",
       "      <th>nombre_area_bit_2</th>\n",
       "      <th>nombre_area_bit_1</th>\n",
       "      <th>nombre_area_bit_0</th>\n",
       "    </tr>\n",
       "  </thead>\n",
       "  <tbody>\n",
       "    <tr>\n",
       "      <th>4</th>\n",
       "      <td>1000872556</td>\n",
       "      <td>1</td>\n",
       "      <td>[operarios, planta, rubro, electrodomésticos]</td>\n",
       "      <td>[operarios, plantanos, encontramos, búsqueda, ...</td>\n",
       "      <td>Gran Buenos Aires</td>\n",
       "      <td>Full-time</td>\n",
       "      <td>Senior / Semi-Senior</td>\n",
       "      <td>ELECTRO OUTLET SRL</td>\n",
       "      <td>0</td>\n",
       "      <td>0</td>\n",
       "      <td>...</td>\n",
       "      <td>0</td>\n",
       "      <td>0</td>\n",
       "      <td>1</td>\n",
       "      <td>0</td>\n",
       "      <td>0</td>\n",
       "      <td>1</td>\n",
       "      <td>0</td>\n",
       "      <td>0</td>\n",
       "      <td>0</td>\n",
       "      <td>0</td>\n",
       "    </tr>\n",
       "    <tr>\n",
       "      <th>8</th>\n",
       "      <td>9240880</td>\n",
       "      <td>1</td>\n",
       "      <td>[productores, asesores, independiente, ventas,...</td>\n",
       "      <td>[agente, oficial, selecciona, nuestra, búsqued...</td>\n",
       "      <td>Capital Federal</td>\n",
       "      <td>Full-time</td>\n",
       "      <td>Jefe / Supervisor / Responsable</td>\n",
       "      <td>Agencia Oficial Alejandro Arizaga</td>\n",
       "      <td>1</td>\n",
       "      <td>0</td>\n",
       "      <td>...</td>\n",
       "      <td>0</td>\n",
       "      <td>0</td>\n",
       "      <td>0</td>\n",
       "      <td>0</td>\n",
       "      <td>0</td>\n",
       "      <td>1</td>\n",
       "      <td>1</td>\n",
       "      <td>1</td>\n",
       "      <td>1</td>\n",
       "      <td>1</td>\n",
       "    </tr>\n",
       "    <tr>\n",
       "      <th>19</th>\n",
       "      <td>1110185164</td>\n",
       "      <td>1</td>\n",
       "      <td>[administrativo, recepción]</td>\n",
       "      <td>[centro, médico, accord, encuentra, búsqueda, ...</td>\n",
       "      <td>Gran Buenos Aires</td>\n",
       "      <td>Full-time</td>\n",
       "      <td>Junior</td>\n",
       "      <td>Unión Personal</td>\n",
       "      <td>0</td>\n",
       "      <td>0</td>\n",
       "      <td>...</td>\n",
       "      <td>0</td>\n",
       "      <td>0</td>\n",
       "      <td>0</td>\n",
       "      <td>0</td>\n",
       "      <td>0</td>\n",
       "      <td>0</td>\n",
       "      <td>0</td>\n",
       "      <td>0</td>\n",
       "      <td>1</td>\n",
       "      <td>1</td>\n",
       "    </tr>\n",
       "    <tr>\n",
       "      <th>21</th>\n",
       "      <td>1110513885</td>\n",
       "      <td>1</td>\n",
       "      <td>[distribuidor, domiciliario, moto, san, miguel]</td>\n",
       "      <td>[importante, correo, privado, ubicado, san, mi...</td>\n",
       "      <td>Gran Buenos Aires</td>\n",
       "      <td>Full-time</td>\n",
       "      <td>Junior</td>\n",
       "      <td>Asoko Tempo SA</td>\n",
       "      <td>0</td>\n",
       "      <td>0</td>\n",
       "      <td>...</td>\n",
       "      <td>0</td>\n",
       "      <td>0</td>\n",
       "      <td>0</td>\n",
       "      <td>1</td>\n",
       "      <td>0</td>\n",
       "      <td>0</td>\n",
       "      <td>0</td>\n",
       "      <td>0</td>\n",
       "      <td>0</td>\n",
       "      <td>0</td>\n",
       "    </tr>\n",
       "    <tr>\n",
       "      <th>32</th>\n",
       "      <td>1111034024</td>\n",
       "      <td>1</td>\n",
       "      <td>[vendedores, venta, medicina, pre, paga, obra,...</td>\n",
       "      <td>[comercializadora, incorpora, vendedores, vent...</td>\n",
       "      <td>Gran Buenos Aires</td>\n",
       "      <td>Full-time</td>\n",
       "      <td>Senior / Semi-Senior</td>\n",
       "      <td>JELS SRL</td>\n",
       "      <td>0</td>\n",
       "      <td>0</td>\n",
       "      <td>...</td>\n",
       "      <td>0</td>\n",
       "      <td>0</td>\n",
       "      <td>0</td>\n",
       "      <td>0</td>\n",
       "      <td>0</td>\n",
       "      <td>1</td>\n",
       "      <td>1</td>\n",
       "      <td>1</td>\n",
       "      <td>1</td>\n",
       "      <td>1</td>\n",
       "    </tr>\n",
       "  </tbody>\n",
       "</table>\n",
       "<p>5 rows × 24 columns</p>\n",
       "</div>"
      ],
      "text/plain": [
       "       idaviso  idpais                                             titulo  \\\n",
       "4   1000872556       1      [operarios, planta, rubro, electrodomésticos]   \n",
       "8      9240880       1  [productores, asesores, independiente, ventas,...   \n",
       "19  1110185164       1                        [administrativo, recepción]   \n",
       "21  1110513885       1    [distribuidor, domiciliario, moto, san, miguel]   \n",
       "32  1111034024       1  [vendedores, venta, medicina, pre, paga, obra,...   \n",
       "\n",
       "                                          descripcion        nombre_zona  \\\n",
       "4   [operarios, plantanos, encontramos, búsqueda, ...  Gran Buenos Aires   \n",
       "8   [agente, oficial, selecciona, nuestra, búsqued...    Capital Federal   \n",
       "19  [centro, médico, accord, encuentra, búsqueda, ...  Gran Buenos Aires   \n",
       "21  [importante, correo, privado, ubicado, san, mi...  Gran Buenos Aires   \n",
       "32  [comercializadora, incorpora, vendedores, vent...  Gran Buenos Aires   \n",
       "\n",
       "   tipo_de_trabajo                    nivel_laboral  \\\n",
       "4        Full-time             Senior / Semi-Senior   \n",
       "8        Full-time  Jefe / Supervisor / Responsable   \n",
       "19       Full-time                           Junior   \n",
       "21       Full-time                           Junior   \n",
       "32       Full-time             Senior / Semi-Senior   \n",
       "\n",
       "                 denominacion_empresa  ft_0  ft_1        ...         ft_6  \\\n",
       "4                  ELECTRO OUTLET SRL     0     0        ...            0   \n",
       "8   Agencia Oficial Alejandro Arizaga     1     0        ...            0   \n",
       "19                     Unión Personal     0     0        ...            0   \n",
       "21                     Asoko Tempo SA     0     0        ...            0   \n",
       "32                           JELS SRL     0     0        ...            0   \n",
       "\n",
       "    ft_7  nombre_area_bit_7  nombre_area_bit_6  nombre_area_bit_5  \\\n",
       "4      0                  1                  0                  0   \n",
       "8      0                  0                  0                  0   \n",
       "19     0                  0                  0                  0   \n",
       "21     0                  0                  1                  0   \n",
       "32     0                  0                  0                  0   \n",
       "\n",
       "    nombre_area_bit_4 nombre_area_bit_3 nombre_area_bit_2 nombre_area_bit_1  \\\n",
       "4                   1                 0                 0                 0   \n",
       "8                   1                 1                 1                 1   \n",
       "19                  0                 0                 0                 1   \n",
       "21                  0                 0                 0                 0   \n",
       "32                  1                 1                 1                 1   \n",
       "\n",
       "   nombre_area_bit_0  \n",
       "4                  0  \n",
       "8                  1  \n",
       "19                 1  \n",
       "21                 0  \n",
       "32                 1  \n",
       "\n",
       "[5 rows x 24 columns]"
      ]
     },
     "execution_count": 7,
     "metadata": {},
     "output_type": "execute_result"
    }
   ],
   "source": [
    "avisos.head()"
   ]
  },
  {
   "cell_type": "code",
   "execution_count": 8,
   "metadata": {},
   "outputs": [],
   "source": [
    "avisos.to_pickle(\"pickles/avisos\")"
   ]
  },
  {
   "cell_type": "markdown",
   "metadata": {},
   "source": [
    "## Df Usuarios"
   ]
  },
  {
   "cell_type": "code",
   "execution_count": 4,
   "metadata": {},
   "outputs": [],
   "source": [
    "educacion = pd.read_csv(os.path.join(path_working_directory, \"datos_navent_fiuba\", \"fiuba_1_postulantes_educacion.csv\"), low_memory=False)\n",
    "genero_edad = pd.read_csv(os.path.join(path_working_directory, \"datos_navent_fiuba\", \"fiuba_2_postulantes_genero_y_edad.csv\"), low_memory=False)\n",
    "\n",
    "educacionE6 = pd.read_csv(os.path.join(path_working_directory, \"entrega6\", \"fiuba_1_postulantes_educacion.csv\"), low_memory=False)\n",
    "genero_edadE6 = pd.read_csv(os.path.join(path_working_directory, \"entrega6\", \"fiuba_2_postulantes_genero_y_edad.csv\"), low_memory=False)\n",
    "\n",
    "educacion15A = pd.read_csv(os.path.join(path_working_directory, \"Fiuba desde 15 Abril\", \"fiuba_1_postulantes_educacion.csv\"), low_memory=False)\n",
    "genero_edad15A = pd.read_csv(os.path.join(path_working_directory, \"Fiuba desde 15 Abril\", \"fiuba_2_postulantes_genero_y_edad.csv\"), low_memory=False)\n",
    "\n",
    "educacion_comb = educacion.append(educacionE6)\n",
    "educacion_comb = educacion_comb.append(educacion15A)\n",
    "\n",
    "genero_edad_comb = genero_edad.append(genero_edadE6)\n",
    "genero_edad_comb = genero_edad_comb.append(genero_edad15A)"
   ]
  },
  {
   "cell_type": "code",
   "execution_count": 5,
   "metadata": {},
   "outputs": [],
   "source": [
    "del educacion\n",
    "del educacionE6\n",
    "del educacion15A\n",
    "del genero_edad\n",
    "del genero_edadE6\n",
    "del genero_edad15A"
   ]
  },
  {
   "cell_type": "code",
   "execution_count": 6,
   "metadata": {},
   "outputs": [],
   "source": [
    "#Generamos columnas estudio en curso, estudio graduado\n",
    "tipos_de_estudio = ['Ninguno', 'Otro', 'Secundario', 'Terciario/Técnico', 'Universitario', 'Master', 'Posgrado', 'Doctorado']\n",
    "def get_dict_tipos_de_estudio():\n",
    "    dict = {}\n",
    "    for x in range(len(tipos_de_estudio)):\n",
    "        dict[tipos_de_estudio[x]] = x\n",
    "    return dict\n",
    "\n",
    "dict_tipos_de_estudio = get_dict_tipos_de_estudio()\n",
    "\n",
    "def mejor_estudio(estudio1, estudio2):\n",
    "    return tipos_de_estudio[max(tipos_de_estudio.index(estudio1), tipos_de_estudio.index(estudio2))]\n",
    "\n",
    "en_curso = educacion_comb.apply(lambda x: dict_tipos_de_estudio[x['nombre']] if x['estado'] == 'En Curso' else 0, axis=1)\n",
    "graduado = educacion_comb.apply(lambda x: dict_tipos_de_estudio[x['nombre']] if x['estado'] == 'Graduado' else 0, axis=1)\n",
    "abandonado = educacion_comb.apply(lambda x: dict_tipos_de_estudio[x['nombre']] if x['estado'] == 'Abandonado' else 0, axis=1)\n",
    "educacion_comb2 = educacion_comb.assign(estudio_en_curso=en_curso)\n",
    "educacion_comb2 = educacion_comb2.assign(estudio_graduado=graduado)\n",
    "educacion_comb2 = educacion_comb2.assign(estudio_abandonado=abandonado)\n",
    "del en_curso\n",
    "del graduado\n",
    "del abandonado"
   ]
  },
  {
   "cell_type": "code",
   "execution_count": 8,
   "metadata": {},
   "outputs": [],
   "source": [
    "educacion_grupos = educacion_comb2.groupby('idpostulante')\n",
    "educacion_comb = pd.DataFrame({\n",
    "    'estudio_en_curso': educacion_grupos['estudio_en_curso'].max(),\n",
    "    'estudio_graduado': educacion_grupos['estudio_graduado'].max(),\n",
    "    'estudio_abandonado': educacion_grupos['estudio_abandonado'].max()\n",
    "}).reset_index()\n",
    "educacion_comb['estudio_en_curso'] = educacion_comb.apply(lambda x: x['estudio_en_curso'] if x['estudio_en_curso'] > x['estudio_graduado'] else 0, axis=1)\n",
    "educacion_comb['estudio_abandonado'] = educacion_comb.apply(lambda x: x['estudio_abandonado'] if x['estudio_abandonado'] >= x['estudio_en_curso'] else 0, axis=1)\n",
    "del educacion_grupos\n",
    "del educacion_comb2"
   ]
  },
  {
   "cell_type": "code",
   "execution_count": 9,
   "metadata": {},
   "outputs": [],
   "source": [
    "genero_edad_comb = genero_edad_comb.drop_duplicates(subset='idpostulante', keep='last')"
   ]
  },
  {
   "cell_type": "code",
   "execution_count": 10,
   "metadata": {},
   "outputs": [
    {
     "data": {
      "text/plain": [
       "504407"
      ]
     },
     "execution_count": 10,
     "metadata": {},
     "output_type": "execute_result"
    }
   ],
   "source": [
    "len(genero_edad_comb)"
   ]
  },
  {
   "cell_type": "code",
   "execution_count": 11,
   "metadata": {},
   "outputs": [
    {
     "name": "stderr",
     "output_type": "stream",
     "text": [
      "/usr/local/lib/python2.7/dist-packages/ipykernel_launcher.py:7: SettingWithCopyWarning: \n",
      "A value is trying to be set on a copy of a slice from a DataFrame.\n",
      "Try using .loc[row_indexer,col_indexer] = value instead\n",
      "\n",
      "See the caveats in the documentation: http://pandas.pydata.org/pandas-docs/stable/indexing.html#indexing-view-versus-copy\n",
      "  import sys\n"
     ]
    },
    {
     "name": "stdout",
     "output_type": "stream",
     "text": [
      "504407\n"
     ]
    },
    {
     "name": "stderr",
     "output_type": "stream",
     "text": [
      "/usr/local/lib/python2.7/dist-packages/ipykernel_launcher.py:15: SettingWithCopyWarning: \n",
      "A value is trying to be set on a copy of a slice from a DataFrame.\n",
      "Try using .loc[row_indexer,col_indexer] = value instead\n",
      "\n",
      "See the caveats in the documentation: http://pandas.pydata.org/pandas-docs/stable/indexing.html#indexing-view-versus-copy\n",
      "  from ipykernel import kernelapp as app\n"
     ]
    }
   ],
   "source": [
    "import datetime as datetime\n",
    "import dateutil \n",
    "\n",
    "genero_edad_comb_con_fecha = genero_edad_comb[genero_edad_comb.fechanacimiento.notnull()]\n",
    "genero_edad_comb_sin_fecha = genero_edad_comb[genero_edad_comb.fechanacimiento.isnull()]\n",
    "# len(edades['fechanacimiento'][edades['fechanacimiento'].apply(lambda x: isinstance(x, str))])\n",
    "genero_edad_comb_con_fecha['edades'] = pd.to_datetime(genero_edad_comb_con_fecha['fechanacimiento'], format='%Y-%m-%d', errors='coerce')\n",
    "\n",
    "genero_edad_con_edad = genero_edad_comb_con_fecha[genero_edad_comb_con_fecha.edades.notnull()]\n",
    "genero_edad_sin_edad = genero_edad_comb_con_fecha[genero_edad_comb_con_fecha.edades.isnull()]\n",
    "\n",
    "total = len(genero_edad_comb_sin_fecha) + len(genero_edad_con_edad) + len(genero_edad_sin_edad)\n",
    "print total\n",
    "\n",
    "genero_edad_con_edad['edades'] = genero_edad_con_edad['edades'].apply(lambda x: int(dateutil.relativedelta.relativedelta(datetime.datetime.utcnow().date(),x).years))"
   ]
  },
  {
   "cell_type": "code",
   "execution_count": 12,
   "metadata": {},
   "outputs": [
    {
     "data": {
      "text/plain": [
       "29.0"
      ]
     },
     "execution_count": 12,
     "metadata": {},
     "output_type": "execute_result"
    }
   ],
   "source": [
    "median_edad = genero_edad_con_edad['edades'].median()\n",
    "median_edad"
   ]
  },
  {
   "cell_type": "code",
   "execution_count": 13,
   "metadata": {},
   "outputs": [
    {
     "name": "stderr",
     "output_type": "stream",
     "text": [
      "/usr/local/lib/python2.7/dist-packages/ipykernel_launcher.py:1: SettingWithCopyWarning: \n",
      "A value is trying to be set on a copy of a slice from a DataFrame.\n",
      "Try using .loc[row_indexer,col_indexer] = value instead\n",
      "\n",
      "See the caveats in the documentation: http://pandas.pydata.org/pandas-docs/stable/indexing.html#indexing-view-versus-copy\n",
      "  \"\"\"Entry point for launching an IPython kernel.\n",
      "/usr/local/lib/python2.7/dist-packages/ipykernel_launcher.py:2: SettingWithCopyWarning: \n",
      "A value is trying to be set on a copy of a slice from a DataFrame.\n",
      "Try using .loc[row_indexer,col_indexer] = value instead\n",
      "\n",
      "See the caveats in the documentation: http://pandas.pydata.org/pandas-docs/stable/indexing.html#indexing-view-versus-copy\n",
      "  \n"
     ]
    }
   ],
   "source": [
    "genero_edad_sin_edad['edades'] = median_edad\n",
    "genero_edad_comb_sin_fecha['edades'] = median_edad"
   ]
  },
  {
   "cell_type": "code",
   "execution_count": 14,
   "metadata": {},
   "outputs": [
    {
     "data": {
      "text/plain": [
       "504407"
      ]
     },
     "execution_count": 14,
     "metadata": {},
     "output_type": "execute_result"
    }
   ],
   "source": [
    "genero_edad_comb = genero_edad_con_edad.append(genero_edad_sin_edad)\n",
    "genero_edad_comb = genero_edad_comb.append(genero_edad_comb_sin_fecha)\n",
    "len(genero_edad_comb)"
   ]
  },
  {
   "cell_type": "code",
   "execution_count": 15,
   "metadata": {},
   "outputs": [],
   "source": [
    "del genero_edad_con_edad\n",
    "del genero_edad_sin_edad\n",
    "del genero_edad_comb_sin_fecha"
   ]
  },
  {
   "cell_type": "code",
   "execution_count": 16,
   "metadata": {},
   "outputs": [
    {
     "data": {
      "text/plain": [
       "FEM           251205\n",
       "MASC          227853\n",
       "NO_DECLARA     25342\n",
       "0.0                7\n",
       "Name: sexo, dtype: int64"
      ]
     },
     "execution_count": 16,
     "metadata": {},
     "output_type": "execute_result"
    }
   ],
   "source": [
    "genero_edad_comb.sexo.value_counts()"
   ]
  },
  {
   "cell_type": "code",
   "execution_count": 17,
   "metadata": {},
   "outputs": [
    {
     "data": {
      "text/html": [
       "<div>\n",
       "<style>\n",
       "    .dataframe thead tr:only-child th {\n",
       "        text-align: right;\n",
       "    }\n",
       "\n",
       "    .dataframe thead th {\n",
       "        text-align: left;\n",
       "    }\n",
       "\n",
       "    .dataframe tbody tr th {\n",
       "        vertical-align: top;\n",
       "    }\n",
       "</style>\n",
       "<table border=\"1\" class=\"dataframe\">\n",
       "  <thead>\n",
       "    <tr style=\"text-align: right;\">\n",
       "      <th></th>\n",
       "      <th>idpostulante</th>\n",
       "      <th>fechanacimiento</th>\n",
       "      <th>edades</th>\n",
       "      <th>sexo_0.0</th>\n",
       "      <th>sexo_FEM</th>\n",
       "      <th>sexo_MASC</th>\n",
       "      <th>sexo_NO_DECLARA</th>\n",
       "    </tr>\n",
       "  </thead>\n",
       "  <tbody>\n",
       "    <tr>\n",
       "      <th>4</th>\n",
       "      <td>eo2p</td>\n",
       "      <td>1981-02-16</td>\n",
       "      <td>37.0</td>\n",
       "      <td>0</td>\n",
       "      <td>0</td>\n",
       "      <td>1</td>\n",
       "      <td>0</td>\n",
       "    </tr>\n",
       "    <tr>\n",
       "      <th>8</th>\n",
       "      <td>1d2B</td>\n",
       "      <td>1976-02-28</td>\n",
       "      <td>42.0</td>\n",
       "      <td>0</td>\n",
       "      <td>0</td>\n",
       "      <td>1</td>\n",
       "      <td>0</td>\n",
       "    </tr>\n",
       "    <tr>\n",
       "      <th>14</th>\n",
       "      <td>EBO0</td>\n",
       "      <td>1973-09-11</td>\n",
       "      <td>44.0</td>\n",
       "      <td>0</td>\n",
       "      <td>1</td>\n",
       "      <td>0</td>\n",
       "      <td>0</td>\n",
       "    </tr>\n",
       "    <tr>\n",
       "      <th>32</th>\n",
       "      <td>a6MKW</td>\n",
       "      <td>1974-06-07</td>\n",
       "      <td>44.0</td>\n",
       "      <td>0</td>\n",
       "      <td>0</td>\n",
       "      <td>1</td>\n",
       "      <td>0</td>\n",
       "    </tr>\n",
       "    <tr>\n",
       "      <th>36</th>\n",
       "      <td>6MWd4</td>\n",
       "      <td>1974-12-19</td>\n",
       "      <td>43.0</td>\n",
       "      <td>0</td>\n",
       "      <td>0</td>\n",
       "      <td>1</td>\n",
       "      <td>0</td>\n",
       "    </tr>\n",
       "  </tbody>\n",
       "</table>\n",
       "</div>"
      ],
      "text/plain": [
       "   idpostulante fechanacimiento  edades  sexo_0.0  sexo_FEM  sexo_MASC  \\\n",
       "4          eo2p      1981-02-16    37.0         0         0          1   \n",
       "8          1d2B      1976-02-28    42.0         0         0          1   \n",
       "14         EBO0      1973-09-11    44.0         0         1          0   \n",
       "32        a6MKW      1974-06-07    44.0         0         0          1   \n",
       "36        6MWd4      1974-12-19    43.0         0         0          1   \n",
       "\n",
       "    sexo_NO_DECLARA  \n",
       "4                 0  \n",
       "8                 0  \n",
       "14                0  \n",
       "32                0  \n",
       "36                0  "
      ]
     },
     "execution_count": 17,
     "metadata": {},
     "output_type": "execute_result"
    }
   ],
   "source": [
    "#One hot encoding para la columna sexo\n",
    "genero_edad_comb = pd.get_dummies(genero_edad_comb, columns=[\"sexo\"])\n",
    "genero_edad_comb.head()"
   ]
  },
  {
   "cell_type": "code",
   "execution_count": 18,
   "metadata": {},
   "outputs": [],
   "source": [
    "genero_edad_comb = genero_edad_comb[['idpostulante', 'fechanacimiento', 'edades', 'sexo_FEM', 'sexo_MASC']]"
   ]
  },
  {
   "cell_type": "code",
   "execution_count": 19,
   "metadata": {},
   "outputs": [
    {
     "data": {
      "text/html": [
       "<div>\n",
       "<style>\n",
       "    .dataframe thead tr:only-child th {\n",
       "        text-align: right;\n",
       "    }\n",
       "\n",
       "    .dataframe thead th {\n",
       "        text-align: left;\n",
       "    }\n",
       "\n",
       "    .dataframe tbody tr th {\n",
       "        vertical-align: top;\n",
       "    }\n",
       "</style>\n",
       "<table border=\"1\" class=\"dataframe\">\n",
       "  <thead>\n",
       "    <tr style=\"text-align: right;\">\n",
       "      <th></th>\n",
       "      <th>idpostulante</th>\n",
       "      <th>fechanacimiento</th>\n",
       "      <th>edades</th>\n",
       "      <th>sexo_FEM</th>\n",
       "      <th>sexo_MASC</th>\n",
       "    </tr>\n",
       "  </thead>\n",
       "  <tbody>\n",
       "    <tr>\n",
       "      <th>4</th>\n",
       "      <td>eo2p</td>\n",
       "      <td>1981-02-16</td>\n",
       "      <td>37.0</td>\n",
       "      <td>0</td>\n",
       "      <td>1</td>\n",
       "    </tr>\n",
       "    <tr>\n",
       "      <th>8</th>\n",
       "      <td>1d2B</td>\n",
       "      <td>1976-02-28</td>\n",
       "      <td>42.0</td>\n",
       "      <td>0</td>\n",
       "      <td>1</td>\n",
       "    </tr>\n",
       "    <tr>\n",
       "      <th>14</th>\n",
       "      <td>EBO0</td>\n",
       "      <td>1973-09-11</td>\n",
       "      <td>44.0</td>\n",
       "      <td>1</td>\n",
       "      <td>0</td>\n",
       "    </tr>\n",
       "    <tr>\n",
       "      <th>32</th>\n",
       "      <td>a6MKW</td>\n",
       "      <td>1974-06-07</td>\n",
       "      <td>44.0</td>\n",
       "      <td>0</td>\n",
       "      <td>1</td>\n",
       "    </tr>\n",
       "    <tr>\n",
       "      <th>36</th>\n",
       "      <td>6MWd4</td>\n",
       "      <td>1974-12-19</td>\n",
       "      <td>43.0</td>\n",
       "      <td>0</td>\n",
       "      <td>1</td>\n",
       "    </tr>\n",
       "  </tbody>\n",
       "</table>\n",
       "</div>"
      ],
      "text/plain": [
       "   idpostulante fechanacimiento  edades  sexo_FEM  sexo_MASC\n",
       "4          eo2p      1981-02-16    37.0         0          1\n",
       "8          1d2B      1976-02-28    42.0         0          1\n",
       "14         EBO0      1973-09-11    44.0         1          0\n",
       "32        a6MKW      1974-06-07    44.0         0          1\n",
       "36        6MWd4      1974-12-19    43.0         0          1"
      ]
     },
     "execution_count": 19,
     "metadata": {},
     "output_type": "execute_result"
    }
   ],
   "source": [
    "genero_edad_comb.head()"
   ]
  },
  {
   "cell_type": "code",
   "execution_count": 20,
   "metadata": {},
   "outputs": [],
   "source": [
    "genero_edad_comb.to_pickle(\"pickles/genero_edad_comb\")"
   ]
  },
  {
   "cell_type": "code",
   "execution_count": 21,
   "metadata": {},
   "outputs": [],
   "source": [
    "educacion_comb.to_pickle(\"pickles/educacion_comb\")"
   ]
  },
  {
   "cell_type": "code",
   "execution_count": 22,
   "metadata": {},
   "outputs": [
    {
     "name": "stdout",
     "output_type": "stream",
     "text": [
      "504407 447909\n"
     ]
    }
   ],
   "source": [
    "print len(genero_edad_comb), len(educacion_comb)"
   ]
  },
  {
   "cell_type": "code",
   "execution_count": 4,
   "metadata": {},
   "outputs": [],
   "source": [
    "genero_edad_comb = pd.read_pickle('pickles/genero_edad_comb')\n",
    "educacion_comb = pd.read_pickle('pickles/educacion_comb')"
   ]
  },
  {
   "cell_type": "code",
   "execution_count": 5,
   "metadata": {},
   "outputs": [
    {
     "data": {
      "text/plain": [
       "idpostulante          False\n",
       "estudio_abandonado    False\n",
       "estudio_en_curso      False\n",
       "estudio_graduado      False\n",
       "dtype: bool"
      ]
     },
     "execution_count": 5,
     "metadata": {},
     "output_type": "execute_result"
    }
   ],
   "source": [
    "educacion_comb.isnull().any()"
   ]
  },
  {
   "cell_type": "code",
   "execution_count": 6,
   "metadata": {},
   "outputs": [],
   "source": [
    "usuarios = pd.merge(genero_edad_comb, educacion_comb, how='left', on='idpostulante')"
   ]
  },
  {
   "cell_type": "code",
   "execution_count": 7,
   "metadata": {},
   "outputs": [],
   "source": [
    "#Falta borrar la columna fecha nacimiento\n",
    "usuarios.drop('fechanacimiento', axis=1, inplace=True)"
   ]
  },
  {
   "cell_type": "code",
   "execution_count": 8,
   "metadata": {},
   "outputs": [
    {
     "data": {
      "text/html": [
       "<div>\n",
       "<style>\n",
       "    .dataframe thead tr:only-child th {\n",
       "        text-align: right;\n",
       "    }\n",
       "\n",
       "    .dataframe thead th {\n",
       "        text-align: left;\n",
       "    }\n",
       "\n",
       "    .dataframe tbody tr th {\n",
       "        vertical-align: top;\n",
       "    }\n",
       "</style>\n",
       "<table border=\"1\" class=\"dataframe\">\n",
       "  <thead>\n",
       "    <tr style=\"text-align: right;\">\n",
       "      <th></th>\n",
       "      <th>idpostulante</th>\n",
       "      <th>edades</th>\n",
       "      <th>sexo_FEM</th>\n",
       "      <th>sexo_MASC</th>\n",
       "      <th>estudio_abandonado</th>\n",
       "      <th>estudio_en_curso</th>\n",
       "      <th>estudio_graduado</th>\n",
       "    </tr>\n",
       "  </thead>\n",
       "  <tbody>\n",
       "    <tr>\n",
       "      <th>0</th>\n",
       "      <td>eo2p</td>\n",
       "      <td>37.0</td>\n",
       "      <td>0</td>\n",
       "      <td>1</td>\n",
       "      <td>4.0</td>\n",
       "      <td>0.0</td>\n",
       "      <td>5.0</td>\n",
       "    </tr>\n",
       "    <tr>\n",
       "      <th>1</th>\n",
       "      <td>1d2B</td>\n",
       "      <td>42.0</td>\n",
       "      <td>0</td>\n",
       "      <td>1</td>\n",
       "      <td>0.0</td>\n",
       "      <td>4.0</td>\n",
       "      <td>0.0</td>\n",
       "    </tr>\n",
       "    <tr>\n",
       "      <th>2</th>\n",
       "      <td>EBO0</td>\n",
       "      <td>44.0</td>\n",
       "      <td>1</td>\n",
       "      <td>0</td>\n",
       "      <td>0.0</td>\n",
       "      <td>0.0</td>\n",
       "      <td>6.0</td>\n",
       "    </tr>\n",
       "    <tr>\n",
       "      <th>3</th>\n",
       "      <td>a6MKW</td>\n",
       "      <td>44.0</td>\n",
       "      <td>0</td>\n",
       "      <td>1</td>\n",
       "      <td>0.0</td>\n",
       "      <td>0.0</td>\n",
       "      <td>5.0</td>\n",
       "    </tr>\n",
       "    <tr>\n",
       "      <th>4</th>\n",
       "      <td>6MWd4</td>\n",
       "      <td>43.0</td>\n",
       "      <td>0</td>\n",
       "      <td>1</td>\n",
       "      <td>0.0</td>\n",
       "      <td>0.0</td>\n",
       "      <td>4.0</td>\n",
       "    </tr>\n",
       "    <tr>\n",
       "      <th>5</th>\n",
       "      <td>6M3jr</td>\n",
       "      <td>42.0</td>\n",
       "      <td>0</td>\n",
       "      <td>1</td>\n",
       "      <td>0.0</td>\n",
       "      <td>4.0</td>\n",
       "      <td>0.0</td>\n",
       "    </tr>\n",
       "    <tr>\n",
       "      <th>6</th>\n",
       "      <td>8loKM</td>\n",
       "      <td>42.0</td>\n",
       "      <td>0</td>\n",
       "      <td>1</td>\n",
       "      <td>0.0</td>\n",
       "      <td>0.0</td>\n",
       "      <td>5.0</td>\n",
       "    </tr>\n",
       "    <tr>\n",
       "      <th>7</th>\n",
       "      <td>ZaNm1</td>\n",
       "      <td>28.0</td>\n",
       "      <td>1</td>\n",
       "      <td>0</td>\n",
       "      <td>0.0</td>\n",
       "      <td>0.0</td>\n",
       "      <td>0.0</td>\n",
       "    </tr>\n",
       "    <tr>\n",
       "      <th>8</th>\n",
       "      <td>ZaG9z</td>\n",
       "      <td>45.0</td>\n",
       "      <td>1</td>\n",
       "      <td>0</td>\n",
       "      <td>0.0</td>\n",
       "      <td>0.0</td>\n",
       "      <td>4.0</td>\n",
       "    </tr>\n",
       "    <tr>\n",
       "      <th>9</th>\n",
       "      <td>eNje9</td>\n",
       "      <td>44.0</td>\n",
       "      <td>0</td>\n",
       "      <td>1</td>\n",
       "      <td>0.0</td>\n",
       "      <td>0.0</td>\n",
       "      <td>6.0</td>\n",
       "    </tr>\n",
       "    <tr>\n",
       "      <th>10</th>\n",
       "      <td>Z85B5</td>\n",
       "      <td>42.0</td>\n",
       "      <td>1</td>\n",
       "      <td>0</td>\n",
       "      <td>0.0</td>\n",
       "      <td>4.0</td>\n",
       "      <td>3.0</td>\n",
       "    </tr>\n",
       "    <tr>\n",
       "      <th>11</th>\n",
       "      <td>YQreV</td>\n",
       "      <td>44.0</td>\n",
       "      <td>0</td>\n",
       "      <td>1</td>\n",
       "      <td>0.0</td>\n",
       "      <td>0.0</td>\n",
       "      <td>6.0</td>\n",
       "    </tr>\n",
       "    <tr>\n",
       "      <th>12</th>\n",
       "      <td>Z2v5E</td>\n",
       "      <td>38.0</td>\n",
       "      <td>0</td>\n",
       "      <td>1</td>\n",
       "      <td>4.0</td>\n",
       "      <td>0.0</td>\n",
       "      <td>0.0</td>\n",
       "    </tr>\n",
       "    <tr>\n",
       "      <th>13</th>\n",
       "      <td>evGV9</td>\n",
       "      <td>42.0</td>\n",
       "      <td>1</td>\n",
       "      <td>0</td>\n",
       "      <td>0.0</td>\n",
       "      <td>0.0</td>\n",
       "      <td>3.0</td>\n",
       "    </tr>\n",
       "    <tr>\n",
       "      <th>14</th>\n",
       "      <td>1QLLO</td>\n",
       "      <td>40.0</td>\n",
       "      <td>1</td>\n",
       "      <td>0</td>\n",
       "      <td>0.0</td>\n",
       "      <td>0.0</td>\n",
       "      <td>4.0</td>\n",
       "    </tr>\n",
       "    <tr>\n",
       "      <th>15</th>\n",
       "      <td>6rawv</td>\n",
       "      <td>51.0</td>\n",
       "      <td>0</td>\n",
       "      <td>1</td>\n",
       "      <td>0.0</td>\n",
       "      <td>0.0</td>\n",
       "      <td>3.0</td>\n",
       "    </tr>\n",
       "    <tr>\n",
       "      <th>16</th>\n",
       "      <td>8ExAL</td>\n",
       "      <td>43.0</td>\n",
       "      <td>0</td>\n",
       "      <td>1</td>\n",
       "      <td>0.0</td>\n",
       "      <td>0.0</td>\n",
       "      <td>5.0</td>\n",
       "    </tr>\n",
       "    <tr>\n",
       "      <th>17</th>\n",
       "      <td>Yv12D</td>\n",
       "      <td>47.0</td>\n",
       "      <td>1</td>\n",
       "      <td>0</td>\n",
       "      <td>4.0</td>\n",
       "      <td>0.0</td>\n",
       "      <td>0.0</td>\n",
       "    </tr>\n",
       "    <tr>\n",
       "      <th>18</th>\n",
       "      <td>aJ5N5</td>\n",
       "      <td>42.0</td>\n",
       "      <td>1</td>\n",
       "      <td>0</td>\n",
       "      <td>0.0</td>\n",
       "      <td>0.0</td>\n",
       "      <td>6.0</td>\n",
       "    </tr>\n",
       "    <tr>\n",
       "      <th>19</th>\n",
       "      <td>NOVYV</td>\n",
       "      <td>44.0</td>\n",
       "      <td>1</td>\n",
       "      <td>0</td>\n",
       "      <td>4.0</td>\n",
       "      <td>0.0</td>\n",
       "      <td>3.0</td>\n",
       "    </tr>\n",
       "    <tr>\n",
       "      <th>20</th>\n",
       "      <td>aJaVJ</td>\n",
       "      <td>43.0</td>\n",
       "      <td>0</td>\n",
       "      <td>1</td>\n",
       "      <td>0.0</td>\n",
       "      <td>0.0</td>\n",
       "      <td>6.0</td>\n",
       "    </tr>\n",
       "    <tr>\n",
       "      <th>21</th>\n",
       "      <td>890bl</td>\n",
       "      <td>57.0</td>\n",
       "      <td>1</td>\n",
       "      <td>0</td>\n",
       "      <td>0.0</td>\n",
       "      <td>0.0</td>\n",
       "      <td>4.0</td>\n",
       "    </tr>\n",
       "    <tr>\n",
       "      <th>22</th>\n",
       "      <td>NNO5x</td>\n",
       "      <td>39.0</td>\n",
       "      <td>0</td>\n",
       "      <td>1</td>\n",
       "      <td>0.0</td>\n",
       "      <td>0.0</td>\n",
       "      <td>5.0</td>\n",
       "    </tr>\n",
       "    <tr>\n",
       "      <th>23</th>\n",
       "      <td>1aa4B</td>\n",
       "      <td>39.0</td>\n",
       "      <td>1</td>\n",
       "      <td>0</td>\n",
       "      <td>0.0</td>\n",
       "      <td>0.0</td>\n",
       "      <td>6.0</td>\n",
       "    </tr>\n",
       "    <tr>\n",
       "      <th>24</th>\n",
       "      <td>6JAlR</td>\n",
       "      <td>44.0</td>\n",
       "      <td>1</td>\n",
       "      <td>0</td>\n",
       "      <td>0.0</td>\n",
       "      <td>5.0</td>\n",
       "      <td>4.0</td>\n",
       "    </tr>\n",
       "    <tr>\n",
       "      <th>25</th>\n",
       "      <td>8Baqx</td>\n",
       "      <td>43.0</td>\n",
       "      <td>1</td>\n",
       "      <td>0</td>\n",
       "      <td>0.0</td>\n",
       "      <td>0.0</td>\n",
       "      <td>6.0</td>\n",
       "    </tr>\n",
       "    <tr>\n",
       "      <th>26</th>\n",
       "      <td>6ZYwx</td>\n",
       "      <td>58.0</td>\n",
       "      <td>0</td>\n",
       "      <td>1</td>\n",
       "      <td>0.0</td>\n",
       "      <td>0.0</td>\n",
       "      <td>6.0</td>\n",
       "    </tr>\n",
       "    <tr>\n",
       "      <th>27</th>\n",
       "      <td>6ZzRM</td>\n",
       "      <td>38.0</td>\n",
       "      <td>1</td>\n",
       "      <td>0</td>\n",
       "      <td>4.0</td>\n",
       "      <td>0.0</td>\n",
       "      <td>0.0</td>\n",
       "    </tr>\n",
       "    <tr>\n",
       "      <th>28</th>\n",
       "      <td>8BNAz</td>\n",
       "      <td>41.0</td>\n",
       "      <td>0</td>\n",
       "      <td>1</td>\n",
       "      <td>0.0</td>\n",
       "      <td>0.0</td>\n",
       "      <td>3.0</td>\n",
       "    </tr>\n",
       "    <tr>\n",
       "      <th>29</th>\n",
       "      <td>1k4Lz</td>\n",
       "      <td>42.0</td>\n",
       "      <td>0</td>\n",
       "      <td>1</td>\n",
       "      <td>0.0</td>\n",
       "      <td>7.0</td>\n",
       "      <td>6.0</td>\n",
       "    </tr>\n",
       "    <tr>\n",
       "      <th>...</th>\n",
       "      <td>...</td>\n",
       "      <td>...</td>\n",
       "      <td>...</td>\n",
       "      <td>...</td>\n",
       "      <td>...</td>\n",
       "      <td>...</td>\n",
       "      <td>...</td>\n",
       "    </tr>\n",
       "    <tr>\n",
       "      <th>504377</th>\n",
       "      <td>ZDleDvE</td>\n",
       "      <td>29.0</td>\n",
       "      <td>0</td>\n",
       "      <td>0</td>\n",
       "      <td>0.0</td>\n",
       "      <td>0.0</td>\n",
       "      <td>0.0</td>\n",
       "    </tr>\n",
       "    <tr>\n",
       "      <th>504378</th>\n",
       "      <td>ak42rRq</td>\n",
       "      <td>29.0</td>\n",
       "      <td>0</td>\n",
       "      <td>0</td>\n",
       "      <td>2.0</td>\n",
       "      <td>0.0</td>\n",
       "      <td>0.0</td>\n",
       "    </tr>\n",
       "    <tr>\n",
       "      <th>504379</th>\n",
       "      <td>A36VkXG</td>\n",
       "      <td>29.0</td>\n",
       "      <td>0</td>\n",
       "      <td>0</td>\n",
       "      <td>0.0</td>\n",
       "      <td>2.0</td>\n",
       "      <td>0.0</td>\n",
       "    </tr>\n",
       "    <tr>\n",
       "      <th>504380</th>\n",
       "      <td>JBxlRbW</td>\n",
       "      <td>29.0</td>\n",
       "      <td>0</td>\n",
       "      <td>0</td>\n",
       "      <td>0.0</td>\n",
       "      <td>0.0</td>\n",
       "      <td>0.0</td>\n",
       "    </tr>\n",
       "    <tr>\n",
       "      <th>504381</th>\n",
       "      <td>X95L6EP</td>\n",
       "      <td>29.0</td>\n",
       "      <td>0</td>\n",
       "      <td>0</td>\n",
       "      <td>0.0</td>\n",
       "      <td>6.0</td>\n",
       "      <td>0.0</td>\n",
       "    </tr>\n",
       "    <tr>\n",
       "      <th>504382</th>\n",
       "      <td>PmGe02j</td>\n",
       "      <td>29.0</td>\n",
       "      <td>0</td>\n",
       "      <td>0</td>\n",
       "      <td>4.0</td>\n",
       "      <td>0.0</td>\n",
       "      <td>0.0</td>\n",
       "    </tr>\n",
       "    <tr>\n",
       "      <th>504383</th>\n",
       "      <td>PmGe0PJ</td>\n",
       "      <td>29.0</td>\n",
       "      <td>0</td>\n",
       "      <td>0</td>\n",
       "      <td>0.0</td>\n",
       "      <td>0.0</td>\n",
       "      <td>0.0</td>\n",
       "    </tr>\n",
       "    <tr>\n",
       "      <th>504384</th>\n",
       "      <td>ekOLREo</td>\n",
       "      <td>29.0</td>\n",
       "      <td>0</td>\n",
       "      <td>0</td>\n",
       "      <td>4.0</td>\n",
       "      <td>0.0</td>\n",
       "      <td>4.0</td>\n",
       "    </tr>\n",
       "    <tr>\n",
       "      <th>504385</th>\n",
       "      <td>NA89jl</td>\n",
       "      <td>29.0</td>\n",
       "      <td>0</td>\n",
       "      <td>0</td>\n",
       "      <td>0.0</td>\n",
       "      <td>0.0</td>\n",
       "      <td>0.0</td>\n",
       "    </tr>\n",
       "    <tr>\n",
       "      <th>504386</th>\n",
       "      <td>EDMQO0</td>\n",
       "      <td>29.0</td>\n",
       "      <td>0</td>\n",
       "      <td>0</td>\n",
       "      <td>0.0</td>\n",
       "      <td>0.0</td>\n",
       "      <td>0.0</td>\n",
       "    </tr>\n",
       "    <tr>\n",
       "      <th>504387</th>\n",
       "      <td>6kKzBx</td>\n",
       "      <td>29.0</td>\n",
       "      <td>0</td>\n",
       "      <td>0</td>\n",
       "      <td>0.0</td>\n",
       "      <td>0.0</td>\n",
       "      <td>0.0</td>\n",
       "    </tr>\n",
       "    <tr>\n",
       "      <th>504388</th>\n",
       "      <td>8wKmVR</td>\n",
       "      <td>29.0</td>\n",
       "      <td>0</td>\n",
       "      <td>0</td>\n",
       "      <td>0.0</td>\n",
       "      <td>0.0</td>\n",
       "      <td>0.0</td>\n",
       "    </tr>\n",
       "    <tr>\n",
       "      <th>504389</th>\n",
       "      <td>EDMYDN</td>\n",
       "      <td>29.0</td>\n",
       "      <td>0</td>\n",
       "      <td>0</td>\n",
       "      <td>0.0</td>\n",
       "      <td>0.0</td>\n",
       "      <td>4.0</td>\n",
       "    </tr>\n",
       "    <tr>\n",
       "      <th>504390</th>\n",
       "      <td>Zjde8b</td>\n",
       "      <td>29.0</td>\n",
       "      <td>0</td>\n",
       "      <td>0</td>\n",
       "      <td>0.0</td>\n",
       "      <td>0.0</td>\n",
       "      <td>0.0</td>\n",
       "    </tr>\n",
       "    <tr>\n",
       "      <th>504391</th>\n",
       "      <td>eRYlvB</td>\n",
       "      <td>29.0</td>\n",
       "      <td>0</td>\n",
       "      <td>0</td>\n",
       "      <td>0.0</td>\n",
       "      <td>0.0</td>\n",
       "      <td>0.0</td>\n",
       "    </tr>\n",
       "    <tr>\n",
       "      <th>504392</th>\n",
       "      <td>ZjdeGY</td>\n",
       "      <td>29.0</td>\n",
       "      <td>0</td>\n",
       "      <td>0</td>\n",
       "      <td>0.0</td>\n",
       "      <td>0.0</td>\n",
       "      <td>4.0</td>\n",
       "    </tr>\n",
       "    <tr>\n",
       "      <th>504393</th>\n",
       "      <td>Zjde0E</td>\n",
       "      <td>29.0</td>\n",
       "      <td>0</td>\n",
       "      <td>0</td>\n",
       "      <td>0.0</td>\n",
       "      <td>0.0</td>\n",
       "      <td>0.0</td>\n",
       "    </tr>\n",
       "    <tr>\n",
       "      <th>504394</th>\n",
       "      <td>eRYl8E</td>\n",
       "      <td>29.0</td>\n",
       "      <td>0</td>\n",
       "      <td>0</td>\n",
       "      <td>0.0</td>\n",
       "      <td>0.0</td>\n",
       "      <td>3.0</td>\n",
       "    </tr>\n",
       "    <tr>\n",
       "      <th>504395</th>\n",
       "      <td>Y6q3Qq</td>\n",
       "      <td>29.0</td>\n",
       "      <td>1</td>\n",
       "      <td>0</td>\n",
       "      <td>0.0</td>\n",
       "      <td>0.0</td>\n",
       "      <td>3.0</td>\n",
       "    </tr>\n",
       "    <tr>\n",
       "      <th>504396</th>\n",
       "      <td>qeYYJrx</td>\n",
       "      <td>29.0</td>\n",
       "      <td>0</td>\n",
       "      <td>0</td>\n",
       "      <td>0.0</td>\n",
       "      <td>0.0</td>\n",
       "      <td>0.0</td>\n",
       "    </tr>\n",
       "    <tr>\n",
       "      <th>504397</th>\n",
       "      <td>LNPEj6b</td>\n",
       "      <td>29.0</td>\n",
       "      <td>0</td>\n",
       "      <td>0</td>\n",
       "      <td>0.0</td>\n",
       "      <td>0.0</td>\n",
       "      <td>2.0</td>\n",
       "    </tr>\n",
       "    <tr>\n",
       "      <th>504398</th>\n",
       "      <td>8M2DjEz</td>\n",
       "      <td>29.0</td>\n",
       "      <td>0</td>\n",
       "      <td>1</td>\n",
       "      <td>0.0</td>\n",
       "      <td>0.0</td>\n",
       "      <td>0.0</td>\n",
       "    </tr>\n",
       "    <tr>\n",
       "      <th>504399</th>\n",
       "      <td>qe6pDN1</td>\n",
       "      <td>29.0</td>\n",
       "      <td>1</td>\n",
       "      <td>0</td>\n",
       "      <td>0.0</td>\n",
       "      <td>0.0</td>\n",
       "      <td>2.0</td>\n",
       "    </tr>\n",
       "    <tr>\n",
       "      <th>504400</th>\n",
       "      <td>8M2Djvj</td>\n",
       "      <td>29.0</td>\n",
       "      <td>1</td>\n",
       "      <td>0</td>\n",
       "      <td>0.0</td>\n",
       "      <td>4.0</td>\n",
       "      <td>1.0</td>\n",
       "    </tr>\n",
       "    <tr>\n",
       "      <th>504401</th>\n",
       "      <td>6rP1kqO</td>\n",
       "      <td>29.0</td>\n",
       "      <td>0</td>\n",
       "      <td>1</td>\n",
       "      <td>0.0</td>\n",
       "      <td>4.0</td>\n",
       "      <td>2.0</td>\n",
       "    </tr>\n",
       "    <tr>\n",
       "      <th>504402</th>\n",
       "      <td>EzeBDW4</td>\n",
       "      <td>29.0</td>\n",
       "      <td>0</td>\n",
       "      <td>0</td>\n",
       "      <td>0.0</td>\n",
       "      <td>0.0</td>\n",
       "      <td>0.0</td>\n",
       "    </tr>\n",
       "    <tr>\n",
       "      <th>504403</th>\n",
       "      <td>vVjAPXQ</td>\n",
       "      <td>29.0</td>\n",
       "      <td>0</td>\n",
       "      <td>1</td>\n",
       "      <td>3.0</td>\n",
       "      <td>0.0</td>\n",
       "      <td>3.0</td>\n",
       "    </tr>\n",
       "    <tr>\n",
       "      <th>504404</th>\n",
       "      <td>6rP1MQ4</td>\n",
       "      <td>29.0</td>\n",
       "      <td>0</td>\n",
       "      <td>0</td>\n",
       "      <td>0.0</td>\n",
       "      <td>0.0</td>\n",
       "      <td>0.0</td>\n",
       "    </tr>\n",
       "    <tr>\n",
       "      <th>504405</th>\n",
       "      <td>PmGe4oZ</td>\n",
       "      <td>29.0</td>\n",
       "      <td>0</td>\n",
       "      <td>0</td>\n",
       "      <td>0.0</td>\n",
       "      <td>0.0</td>\n",
       "      <td>0.0</td>\n",
       "    </tr>\n",
       "    <tr>\n",
       "      <th>504406</th>\n",
       "      <td>rmdoK5e</td>\n",
       "      <td>29.0</td>\n",
       "      <td>0</td>\n",
       "      <td>0</td>\n",
       "      <td>0.0</td>\n",
       "      <td>0.0</td>\n",
       "      <td>0.0</td>\n",
       "    </tr>\n",
       "  </tbody>\n",
       "</table>\n",
       "<p>504407 rows × 7 columns</p>\n",
       "</div>"
      ],
      "text/plain": [
       "       idpostulante  edades  sexo_FEM  sexo_MASC  estudio_abandonado  \\\n",
       "0              eo2p    37.0         0          1                 4.0   \n",
       "1              1d2B    42.0         0          1                 0.0   \n",
       "2              EBO0    44.0         1          0                 0.0   \n",
       "3             a6MKW    44.0         0          1                 0.0   \n",
       "4             6MWd4    43.0         0          1                 0.0   \n",
       "5             6M3jr    42.0         0          1                 0.0   \n",
       "6             8loKM    42.0         0          1                 0.0   \n",
       "7             ZaNm1    28.0         1          0                 0.0   \n",
       "8             ZaG9z    45.0         1          0                 0.0   \n",
       "9             eNje9    44.0         0          1                 0.0   \n",
       "10            Z85B5    42.0         1          0                 0.0   \n",
       "11            YQreV    44.0         0          1                 0.0   \n",
       "12            Z2v5E    38.0         0          1                 4.0   \n",
       "13            evGV9    42.0         1          0                 0.0   \n",
       "14            1QLLO    40.0         1          0                 0.0   \n",
       "15            6rawv    51.0         0          1                 0.0   \n",
       "16            8ExAL    43.0         0          1                 0.0   \n",
       "17            Yv12D    47.0         1          0                 4.0   \n",
       "18            aJ5N5    42.0         1          0                 0.0   \n",
       "19            NOVYV    44.0         1          0                 4.0   \n",
       "20            aJaVJ    43.0         0          1                 0.0   \n",
       "21            890bl    57.0         1          0                 0.0   \n",
       "22            NNO5x    39.0         0          1                 0.0   \n",
       "23            1aa4B    39.0         1          0                 0.0   \n",
       "24            6JAlR    44.0         1          0                 0.0   \n",
       "25            8Baqx    43.0         1          0                 0.0   \n",
       "26            6ZYwx    58.0         0          1                 0.0   \n",
       "27            6ZzRM    38.0         1          0                 4.0   \n",
       "28            8BNAz    41.0         0          1                 0.0   \n",
       "29            1k4Lz    42.0         0          1                 0.0   \n",
       "...             ...     ...       ...        ...                 ...   \n",
       "504377      ZDleDvE    29.0         0          0                 0.0   \n",
       "504378      ak42rRq    29.0         0          0                 2.0   \n",
       "504379      A36VkXG    29.0         0          0                 0.0   \n",
       "504380      JBxlRbW    29.0         0          0                 0.0   \n",
       "504381      X95L6EP    29.0         0          0                 0.0   \n",
       "504382      PmGe02j    29.0         0          0                 4.0   \n",
       "504383      PmGe0PJ    29.0         0          0                 0.0   \n",
       "504384      ekOLREo    29.0         0          0                 4.0   \n",
       "504385       NA89jl    29.0         0          0                 0.0   \n",
       "504386       EDMQO0    29.0         0          0                 0.0   \n",
       "504387       6kKzBx    29.0         0          0                 0.0   \n",
       "504388       8wKmVR    29.0         0          0                 0.0   \n",
       "504389       EDMYDN    29.0         0          0                 0.0   \n",
       "504390       Zjde8b    29.0         0          0                 0.0   \n",
       "504391       eRYlvB    29.0         0          0                 0.0   \n",
       "504392       ZjdeGY    29.0         0          0                 0.0   \n",
       "504393       Zjde0E    29.0         0          0                 0.0   \n",
       "504394       eRYl8E    29.0         0          0                 0.0   \n",
       "504395       Y6q3Qq    29.0         1          0                 0.0   \n",
       "504396      qeYYJrx    29.0         0          0                 0.0   \n",
       "504397      LNPEj6b    29.0         0          0                 0.0   \n",
       "504398      8M2DjEz    29.0         0          1                 0.0   \n",
       "504399      qe6pDN1    29.0         1          0                 0.0   \n",
       "504400      8M2Djvj    29.0         1          0                 0.0   \n",
       "504401      6rP1kqO    29.0         0          1                 0.0   \n",
       "504402      EzeBDW4    29.0         0          0                 0.0   \n",
       "504403      vVjAPXQ    29.0         0          1                 3.0   \n",
       "504404      6rP1MQ4    29.0         0          0                 0.0   \n",
       "504405      PmGe4oZ    29.0         0          0                 0.0   \n",
       "504406      rmdoK5e    29.0         0          0                 0.0   \n",
       "\n",
       "        estudio_en_curso  estudio_graduado  \n",
       "0                    0.0               5.0  \n",
       "1                    4.0               0.0  \n",
       "2                    0.0               6.0  \n",
       "3                    0.0               5.0  \n",
       "4                    0.0               4.0  \n",
       "5                    4.0               0.0  \n",
       "6                    0.0               5.0  \n",
       "7                    0.0               0.0  \n",
       "8                    0.0               4.0  \n",
       "9                    0.0               6.0  \n",
       "10                   4.0               3.0  \n",
       "11                   0.0               6.0  \n",
       "12                   0.0               0.0  \n",
       "13                   0.0               3.0  \n",
       "14                   0.0               4.0  \n",
       "15                   0.0               3.0  \n",
       "16                   0.0               5.0  \n",
       "17                   0.0               0.0  \n",
       "18                   0.0               6.0  \n",
       "19                   0.0               3.0  \n",
       "20                   0.0               6.0  \n",
       "21                   0.0               4.0  \n",
       "22                   0.0               5.0  \n",
       "23                   0.0               6.0  \n",
       "24                   5.0               4.0  \n",
       "25                   0.0               6.0  \n",
       "26                   0.0               6.0  \n",
       "27                   0.0               0.0  \n",
       "28                   0.0               3.0  \n",
       "29                   7.0               6.0  \n",
       "...                  ...               ...  \n",
       "504377               0.0               0.0  \n",
       "504378               0.0               0.0  \n",
       "504379               2.0               0.0  \n",
       "504380               0.0               0.0  \n",
       "504381               6.0               0.0  \n",
       "504382               0.0               0.0  \n",
       "504383               0.0               0.0  \n",
       "504384               0.0               4.0  \n",
       "504385               0.0               0.0  \n",
       "504386               0.0               0.0  \n",
       "504387               0.0               0.0  \n",
       "504388               0.0               0.0  \n",
       "504389               0.0               4.0  \n",
       "504390               0.0               0.0  \n",
       "504391               0.0               0.0  \n",
       "504392               0.0               4.0  \n",
       "504393               0.0               0.0  \n",
       "504394               0.0               3.0  \n",
       "504395               0.0               3.0  \n",
       "504396               0.0               0.0  \n",
       "504397               0.0               2.0  \n",
       "504398               0.0               0.0  \n",
       "504399               0.0               2.0  \n",
       "504400               4.0               1.0  \n",
       "504401               4.0               2.0  \n",
       "504402               0.0               0.0  \n",
       "504403               0.0               3.0  \n",
       "504404               0.0               0.0  \n",
       "504405               0.0               0.0  \n",
       "504406               0.0               0.0  \n",
       "\n",
       "[504407 rows x 7 columns]"
      ]
     },
     "execution_count": 8,
     "metadata": {},
     "output_type": "execute_result"
    }
   ],
   "source": [
    "usuarios.fillna(value=0)"
   ]
  },
  {
   "cell_type": "code",
   "execution_count": 9,
   "metadata": {},
   "outputs": [
    {
     "data": {
      "text/plain": [
       "idpostulante          False\n",
       "estudio_abandonado    False\n",
       "estudio_en_curso      False\n",
       "estudio_graduado      False\n",
       "dtype: bool"
      ]
     },
     "execution_count": 9,
     "metadata": {},
     "output_type": "execute_result"
    }
   ],
   "source": [
    "educacion_comb.isnull().any()"
   ]
  },
  {
   "cell_type": "code",
   "execution_count": 31,
   "metadata": {},
   "outputs": [
    {
     "data": {
      "text/html": [
       "<div>\n",
       "<style>\n",
       "    .dataframe thead tr:only-child th {\n",
       "        text-align: right;\n",
       "    }\n",
       "\n",
       "    .dataframe thead th {\n",
       "        text-align: left;\n",
       "    }\n",
       "\n",
       "    .dataframe tbody tr th {\n",
       "        vertical-align: top;\n",
       "    }\n",
       "</style>\n",
       "<table border=\"1\" class=\"dataframe\">\n",
       "  <thead>\n",
       "    <tr style=\"text-align: right;\">\n",
       "      <th></th>\n",
       "      <th>idpostulante</th>\n",
       "      <th>edades</th>\n",
       "      <th>sexo_FEM</th>\n",
       "      <th>sexo_MASC</th>\n",
       "      <th>estudio_abandonado</th>\n",
       "      <th>estudio_en_curso</th>\n",
       "      <th>estudio_graduado</th>\n",
       "    </tr>\n",
       "  </thead>\n",
       "  <tbody>\n",
       "    <tr>\n",
       "      <th>0</th>\n",
       "      <td>eo2p</td>\n",
       "      <td>37.0</td>\n",
       "      <td>0</td>\n",
       "      <td>1</td>\n",
       "      <td>4.0</td>\n",
       "      <td>0.0</td>\n",
       "      <td>5.0</td>\n",
       "    </tr>\n",
       "    <tr>\n",
       "      <th>1</th>\n",
       "      <td>1d2B</td>\n",
       "      <td>42.0</td>\n",
       "      <td>0</td>\n",
       "      <td>1</td>\n",
       "      <td>0.0</td>\n",
       "      <td>4.0</td>\n",
       "      <td>0.0</td>\n",
       "    </tr>\n",
       "    <tr>\n",
       "      <th>2</th>\n",
       "      <td>EBO0</td>\n",
       "      <td>44.0</td>\n",
       "      <td>1</td>\n",
       "      <td>0</td>\n",
       "      <td>0.0</td>\n",
       "      <td>0.0</td>\n",
       "      <td>6.0</td>\n",
       "    </tr>\n",
       "    <tr>\n",
       "      <th>3</th>\n",
       "      <td>a6MKW</td>\n",
       "      <td>44.0</td>\n",
       "      <td>0</td>\n",
       "      <td>1</td>\n",
       "      <td>0.0</td>\n",
       "      <td>0.0</td>\n",
       "      <td>5.0</td>\n",
       "    </tr>\n",
       "    <tr>\n",
       "      <th>4</th>\n",
       "      <td>6MWd4</td>\n",
       "      <td>43.0</td>\n",
       "      <td>0</td>\n",
       "      <td>1</td>\n",
       "      <td>0.0</td>\n",
       "      <td>0.0</td>\n",
       "      <td>4.0</td>\n",
       "    </tr>\n",
       "  </tbody>\n",
       "</table>\n",
       "</div>"
      ],
      "text/plain": [
       "  idpostulante  edades  sexo_FEM  sexo_MASC  estudio_abandonado  \\\n",
       "0         eo2p    37.0         0          1                 4.0   \n",
       "1         1d2B    42.0         0          1                 0.0   \n",
       "2         EBO0    44.0         1          0                 0.0   \n",
       "3        a6MKW    44.0         0          1                 0.0   \n",
       "4        6MWd4    43.0         0          1                 0.0   \n",
       "\n",
       "   estudio_en_curso  estudio_graduado  \n",
       "0               0.0               5.0  \n",
       "1               4.0               0.0  \n",
       "2               0.0               6.0  \n",
       "3               0.0               5.0  \n",
       "4               0.0               4.0  "
      ]
     },
     "execution_count": 31,
     "metadata": {},
     "output_type": "execute_result"
    }
   ],
   "source": [
    "usuarios.head()"
   ]
  },
  {
   "cell_type": "code",
   "execution_count": 32,
   "metadata": {},
   "outputs": [],
   "source": [
    "usuarios.to_pickle(\"pickles/usuarios\")"
   ]
  },
  {
   "cell_type": "markdown",
   "metadata": {},
   "source": [
    "## Df Visitas"
   ]
  },
  {
   "cell_type": "code",
   "execution_count": 138,
   "metadata": {},
   "outputs": [],
   "source": [
    "visitas = pd.read_csv(os.path.join(path_working_directory, \"datos_navent_fiuba\", \"fiuba_3_vistas.csv\"), low_memory=False)\n",
    "visitasE6 = pd.read_csv(os.path.join(path_working_directory, \"entrega6\", \"fiuba_3_vistas.csv\"), low_memory=False)\n",
    "visitas15A = pd.read_csv(os.path.join(path_working_directory, \"Fiuba desde 15 Abril\", \"fiuba_3_vistas.csv\"), low_memory=False)\n",
    "\n",
    "visitas_comb = visitas.append(visitasE6)\n",
    "visitas_comb = visitas_comb.append(visitas15A)"
   ]
  },
  {
   "cell_type": "code",
   "execution_count": 139,
   "metadata": {},
   "outputs": [
    {
     "data": {
      "text/html": [
       "<div>\n",
       "<style>\n",
       "    .dataframe thead tr:only-child th {\n",
       "        text-align: right;\n",
       "    }\n",
       "\n",
       "    .dataframe thead th {\n",
       "        text-align: left;\n",
       "    }\n",
       "\n",
       "    .dataframe tbody tr th {\n",
       "        vertical-align: top;\n",
       "    }\n",
       "</style>\n",
       "<table border=\"1\" class=\"dataframe\">\n",
       "  <thead>\n",
       "    <tr style=\"text-align: right;\">\n",
       "      <th></th>\n",
       "      <th>idAviso</th>\n",
       "      <th>timestamp</th>\n",
       "      <th>idpostulante</th>\n",
       "    </tr>\n",
       "  </thead>\n",
       "  <tbody>\n",
       "    <tr>\n",
       "      <th>0</th>\n",
       "      <td>1111780242</td>\n",
       "      <td>2018-02-23T13:38:13.187-0500</td>\n",
       "      <td>YjVJQ6Z</td>\n",
       "    </tr>\n",
       "    <tr>\n",
       "      <th>1</th>\n",
       "      <td>1112263876</td>\n",
       "      <td>2018-02-23T13:38:14.296-0500</td>\n",
       "      <td>BmVpYoR</td>\n",
       "    </tr>\n",
       "    <tr>\n",
       "      <th>2</th>\n",
       "      <td>1112327963</td>\n",
       "      <td>2018-02-23T13:38:14.329-0500</td>\n",
       "      <td>wVkBzZd</td>\n",
       "    </tr>\n",
       "    <tr>\n",
       "      <th>3</th>\n",
       "      <td>1112318643</td>\n",
       "      <td>2018-02-23T13:38:17.921-0500</td>\n",
       "      <td>OqmP9pv</td>\n",
       "    </tr>\n",
       "    <tr>\n",
       "      <th>4</th>\n",
       "      <td>1111903673</td>\n",
       "      <td>2018-02-23T13:38:18.973-0500</td>\n",
       "      <td>DrpbXDP</td>\n",
       "    </tr>\n",
       "  </tbody>\n",
       "</table>\n",
       "</div>"
      ],
      "text/plain": [
       "      idAviso                     timestamp idpostulante\n",
       "0  1111780242  2018-02-23T13:38:13.187-0500      YjVJQ6Z\n",
       "1  1112263876  2018-02-23T13:38:14.296-0500      BmVpYoR\n",
       "2  1112327963  2018-02-23T13:38:14.329-0500      wVkBzZd\n",
       "3  1112318643  2018-02-23T13:38:17.921-0500      OqmP9pv\n",
       "4  1111903673  2018-02-23T13:38:18.973-0500      DrpbXDP"
      ]
     },
     "execution_count": 139,
     "metadata": {},
     "output_type": "execute_result"
    }
   ],
   "source": [
    "visitas_comb.head()"
   ]
  },
  {
   "cell_type": "code",
   "execution_count": null,
   "metadata": {},
   "outputs": [],
   "source": [
    "#Me interesa saber cuantas visitas realizo el usuario a cada aviso\n",
    "visitas_comb = visitas_comb[[\"idAviso\",\"idpostulante\"]]\n",
    "visitas_comb = visitas_comb.groupby(by=[\"idAviso\",\"idpostulante\"]).agg(\"sum\")"
   ]
  },
  {
   "cell_type": "code",
   "execution_count": null,
   "metadata": {},
   "outputs": [],
   "source": [
    "df_postulaciones.to_pickle('pickles/visitas')"
   ]
  },
  {
   "cell_type": "markdown",
   "metadata": {},
   "source": [
    "## Df Postulaciones"
   ]
  },
  {
   "cell_type": "code",
   "execution_count": 4,
   "metadata": {},
   "outputs": [
    {
     "data": {
      "text/plain": [
       "8311264"
      ]
     },
     "execution_count": 4,
     "metadata": {},
     "output_type": "execute_result"
    }
   ],
   "source": [
    "postulaciones = pd.read_csv(os.path.join(path_working_directory, \"datos_navent_fiuba\", \"fiuba_4_postulaciones.csv\"), low_memory=False)\n",
    "postulacionesE6 = pd.read_csv(os.path.join(path_working_directory, \"entrega6\", \"fiuba_4_postulaciones.csv\"), low_memory=False)\n",
    "\n",
    "postulaciones_comb = postulaciones.append(postulacionesE6)\n",
    "len(postulaciones_comb)"
   ]
  },
  {
   "cell_type": "code",
   "execution_count": 5,
   "metadata": {},
   "outputs": [],
   "source": [
    "del postulaciones\n",
    "del postulacionesE6"
   ]
  },
  {
   "cell_type": "code",
   "execution_count": 6,
   "metadata": {},
   "outputs": [],
   "source": [
    "postulaciones_comb = postulaciones_comb.drop_duplicates(subset=['idpostulante', 'idaviso'], keep='last')"
   ]
  },
  {
   "cell_type": "code",
   "execution_count": 7,
   "metadata": {},
   "outputs": [
    {
     "data": {
      "text/plain": [
       "6603752"
      ]
     },
     "execution_count": 7,
     "metadata": {},
     "output_type": "execute_result"
    }
   ],
   "source": [
    "len(postulaciones_comb)"
   ]
  },
  {
   "cell_type": "code",
   "execution_count": 8,
   "metadata": {},
   "outputs": [],
   "source": [
    "# postulaciones_comb['fecha'] = pd.to_datetime(postulaciones_comb['fechapostulacion'], format='%Y-%m-%d %H:%M', errors='coerce')\n",
    "# postulaciones_comb = postulaciones_comb[postulaciones_comb.fecha.notnull()]"
   ]
  },
  {
   "cell_type": "code",
   "execution_count": 9,
   "metadata": {},
   "outputs": [
    {
     "data": {
      "text/plain": [
       "6603752"
      ]
     },
     "execution_count": 9,
     "metadata": {},
     "output_type": "execute_result"
    }
   ],
   "source": [
    "len(postulaciones_comb)"
   ]
  },
  {
   "cell_type": "code",
   "execution_count": 10,
   "metadata": {},
   "outputs": [],
   "source": [
    "#Elimino la fecha\n",
    "postulaciones_comb.drop('fechapostulacion', axis=1, inplace=True)\n",
    "# postulaciones_comb.drop('fecha', axis=1, inplace=True)"
   ]
  },
  {
   "cell_type": "code",
   "execution_count": 12,
   "metadata": {},
   "outputs": [],
   "source": [
    "postulaciones_comb.to_pickle('pickles/postulaciones_positivas')"
   ]
  },
  {
   "cell_type": "code",
   "execution_count": 13,
   "metadata": {},
   "outputs": [],
   "source": [
    "#Obtengo el dia, el mes y la hora en la que se realizo la postulacion\n",
    "# postulaciones_comb['dia'] = postulaciones_comb['fecha'].apply(lambda x: x.day)\n",
    "# postulaciones_comb['mes'] = postulaciones_comb['fecha'].apply(lambda x: x.month)\n",
    "# #Todas las postulaciones son del 2018 por lo que no agregamos la columna ya que no aporta informacion\n",
    "# #postulaciones_comb['anio'] = postulaciones_comb['fecha'].apply(lambda x: x.year)\n",
    "# postulaciones_comb['hora'] = postulaciones_comb['fecha'].apply(lambda x: x.hour)\n",
    "#En las predicciones que hay que realizar no tenemos data sobre la fecha, asi que esta informacion no sirve para nuestro modelo\n",
    "postulaciones_comb['se_postulo'] = 1"
   ]
  },
  {
   "cell_type": "code",
   "execution_count": 14,
   "metadata": {},
   "outputs": [
    {
     "data": {
      "text/html": [
       "<div>\n",
       "<style>\n",
       "    .dataframe thead tr:only-child th {\n",
       "        text-align: right;\n",
       "    }\n",
       "\n",
       "    .dataframe thead th {\n",
       "        text-align: left;\n",
       "    }\n",
       "\n",
       "    .dataframe tbody tr th {\n",
       "        vertical-align: top;\n",
       "    }\n",
       "</style>\n",
       "<table border=\"1\" class=\"dataframe\">\n",
       "  <thead>\n",
       "    <tr style=\"text-align: right;\">\n",
       "      <th></th>\n",
       "      <th>idaviso</th>\n",
       "      <th>idpostulante</th>\n",
       "      <th>se_postulo</th>\n",
       "    </tr>\n",
       "  </thead>\n",
       "  <tbody>\n",
       "    <tr>\n",
       "      <th>0</th>\n",
       "      <td>1112257047</td>\n",
       "      <td>NM5M</td>\n",
       "      <td>1</td>\n",
       "    </tr>\n",
       "  </tbody>\n",
       "</table>\n",
       "</div>"
      ],
      "text/plain": [
       "      idaviso idpostulante  se_postulo\n",
       "0  1112257047         NM5M           1"
      ]
     },
     "execution_count": 14,
     "metadata": {},
     "output_type": "execute_result"
    }
   ],
   "source": [
    "postulaciones_comb.head(1)"
   ]
  },
  {
   "cell_type": "code",
   "execution_count": 15,
   "metadata": {},
   "outputs": [],
   "source": [
    "#Genero informacion negativa para el clasificador\n",
    "\n",
    "idavisos = np.copy(postulaciones_comb.idaviso.values)\n",
    "np.random.shuffle(idavisos)\n",
    "\n",
    "idpostulantes = np.copy(postulaciones_comb.idpostulante.values)\n",
    "np.random.shuffle(idpostulantes)\n",
    "\n",
    "# dias = np.copy(postulaciones_comb.dia.values)\n",
    "# np.random.shuffle(dias)\n",
    "\n",
    "# meses = np.copy(postulaciones_comb.mes.values)\n",
    "# np.random.shuffle(meses)\n",
    "\n",
    "# horas = np.copy(postulaciones_comb.hora.values)\n",
    "# np.random.shuffle(horas)\n",
    "\n",
    "postulaciones_fake = pd.DataFrame(np.array([idavisos, idpostulantes]).transpose(),\n",
    "                         columns=[\"idaviso\", \"idpostulante\"])\n",
    "postulaciones_fake['se_postulo'] = 0"
   ]
  },
  {
   "cell_type": "code",
   "execution_count": 16,
   "metadata": {},
   "outputs": [],
   "source": [
    "postulaciones_comb.to_pickle('pickles/postulaciones_posta')\n",
    "postulaciones_fake.to_pickle('pickles/postulaciones_fake')"
   ]
  },
  {
   "cell_type": "code",
   "execution_count": 17,
   "metadata": {},
   "outputs": [
    {
     "data": {
      "text/plain": [
       "13207504"
      ]
     },
     "execution_count": 17,
     "metadata": {},
     "output_type": "execute_result"
    }
   ],
   "source": [
    "postulaciones_totales = postulaciones_comb.append(postulaciones_fake)\n",
    "len(postulaciones_totales)"
   ]
  },
  {
   "cell_type": "code",
   "execution_count": 18,
   "metadata": {},
   "outputs": [
    {
     "data": {
      "text/plain": [
       "12988302"
      ]
     },
     "execution_count": 18,
     "metadata": {},
     "output_type": "execute_result"
    }
   ],
   "source": [
    "#Borro los duplicados que se puedan haber generado al armar datos negativos para entrenar los algoritmos\n",
    "postulaciones_totales = postulaciones_totales.drop_duplicates(subset=['idpostulante', 'idaviso'], keep='first')\n",
    "len(postulaciones_totales)"
   ]
  },
  {
   "cell_type": "code",
   "execution_count": 22,
   "metadata": {},
   "outputs": [],
   "source": [
    "postulaciones_totales.to_pickle('pickles/postulaciones_totales')"
   ]
  },
  {
   "cell_type": "markdown",
   "metadata": {},
   "source": [
    "## Dataset para entrenamiento"
   ]
  },
  {
   "cell_type": "code",
   "execution_count": 9,
   "metadata": {},
   "outputs": [],
   "source": [
    "postulaciones = pd.read_pickle('pickles/postulaciones_positivas')\n",
    "usuarios = pd.read_pickle(\"pickles/usuarios\")\n",
    "avisos = pd.read_pickle(\"pickles/avisos\")"
   ]
  },
  {
   "cell_type": "code",
   "execution_count": 10,
   "metadata": {},
   "outputs": [],
   "source": [
    "df_train = pd.merge(postulaciones, usuarios, how='inner', on='idpostulante')\n",
    "df_train = pd.merge(df_train, avisos, how='inner', on='idaviso')"
   ]
  },
  {
   "cell_type": "code",
   "execution_count": 11,
   "metadata": {},
   "outputs": [
    {
     "data": {
      "text/plain": [
       "6187929"
      ]
     },
     "execution_count": 11,
     "metadata": {},
     "output_type": "execute_result"
    }
   ],
   "source": [
    "len(df_train)"
   ]
  },
  {
   "cell_type": "code",
   "execution_count": 12,
   "metadata": {},
   "outputs": [
    {
     "data": {
      "text/plain": [
       "Index([u'idaviso', u'idpostulante', u'edades', u'sexo_FEM', u'sexo_MASC',\n",
       "       u'estudio_abandonado', u'estudio_en_curso', u'estudio_graduado',\n",
       "       u'idpais', u'titulo', u'descripcion', u'nombre_zona',\n",
       "       u'tipo_de_trabajo', u'nivel_laboral', u'denominacion_empresa', u'ft_0',\n",
       "       u'ft_1', u'ft_2', u'ft_3', u'ft_4', u'ft_5', u'ft_6', u'ft_7',\n",
       "       u'nombre_area_bit_7', u'nombre_area_bit_6', u'nombre_area_bit_5',\n",
       "       u'nombre_area_bit_4', u'nombre_area_bit_3', u'nombre_area_bit_2',\n",
       "       u'nombre_area_bit_1', u'nombre_area_bit_0'],\n",
       "      dtype='object')"
      ]
     },
     "execution_count": 12,
     "metadata": {},
     "output_type": "execute_result"
    }
   ],
   "source": [
    "df_train.columns"
   ]
  },
  {
   "cell_type": "code",
   "execution_count": 13,
   "metadata": {},
   "outputs": [],
   "source": [
    "# Sin codificacion binaria en el nombre area\n",
    "# df_train = df_train[[u'idaviso', u'idpostulante', u'dia', u'mes', u'hora', u'se_postulo',\n",
    "#                        u'estudio_en_curso', u'estudio_graduado',u'estudio_abandonado', u'edades', u'sexo_FEM',\n",
    "#                        u'sexo_MASC', u'nombre_zona',\n",
    "#                        u'tipo_de_trabajo', u'nivel_laboral', u'nombre_area',\n",
    "#                        u'ft_0', u'ft_1', u'ft_2', u'ft_3', u'ft_4',\n",
    "#                        u'ft_5', u'ft_6', u'ft_7']]\n",
    "\n",
    "# Para postulaciones totales\n",
    "# df_train = df_train[[u'idaviso', u'idpostulante',u'se_postulo',\n",
    "#                      u'estudio_en_curso', u'estudio_graduado',u'estudio_abandonado', u'edades', u'sexo_FEM',\n",
    "#                      u'sexo_MASC', u'nombre_zona',\n",
    "#                      u'tipo_de_trabajo', u'nivel_laboral',\n",
    "#                      u'ft_0', u'ft_1', u'ft_2', u'ft_3', u'ft_4',\n",
    "#                      u'ft_5', u'ft_6', u'ft_7', u'nombre_area_bit_7', \n",
    "#                      u'nombre_area_bit_6', u'nombre_area_bit_5',\n",
    "#                      u'nombre_area_bit_4', u'nombre_area_bit_3', u'nombre_area_bit_2',\n",
    "#                      u'nombre_area_bit_1', u'nombre_area_bit_0']]\n",
    "\n",
    "# Para postulaciones positivas\n",
    "df_train = df_train[[u'idaviso', u'idpostulante',\n",
    "                     u'estudio_en_curso', u'estudio_graduado', u'estudio_abandonado', u'edades', u'sexo_FEM',\n",
    "                     u'sexo_MASC', u'nombre_zona',\n",
    "                     u'tipo_de_trabajo', u'nivel_laboral',\n",
    "                     u'ft_0', u'ft_1', u'ft_2', u'ft_3', u'ft_4',\n",
    "                     u'ft_5', u'ft_6', u'ft_7', u'nombre_area_bit_7', \n",
    "                     u'nombre_area_bit_6', u'nombre_area_bit_5',\n",
    "                     u'nombre_area_bit_4', u'nombre_area_bit_3', u'nombre_area_bit_2',\n",
    "                     u'nombre_area_bit_1', u'nombre_area_bit_0']]"
   ]
  },
  {
   "cell_type": "markdown",
   "metadata": {},
   "source": [
    "## One hot encoding"
   ]
  },
  {
   "cell_type": "code",
   "execution_count": 14,
   "metadata": {},
   "outputs": [],
   "source": [
    "df_train = pd.get_dummies(df_train, columns=['estudio_en_curso', 'estudio_graduado', 'estudio_abandonado',\n",
    "                                             'nombre_zona', 'tipo_de_trabajo', 'nivel_laboral'])"
   ]
  },
  {
   "cell_type": "code",
   "execution_count": 15,
   "metadata": {},
   "outputs": [
    {
     "data": {
      "text/plain": [
       "Index([u'idaviso', u'idpostulante', u'edades', u'sexo_FEM', u'sexo_MASC',\n",
       "       u'ft_0', u'ft_1', u'ft_2', u'ft_3', u'ft_4', u'ft_5', u'ft_6', u'ft_7',\n",
       "       u'nombre_area_bit_7', u'nombre_area_bit_6', u'nombre_area_bit_5',\n",
       "       u'nombre_area_bit_4', u'nombre_area_bit_3', u'nombre_area_bit_2',\n",
       "       u'nombre_area_bit_1', u'nombre_area_bit_0', u'estudio_en_curso_0.0',\n",
       "       u'estudio_en_curso_1.0', u'estudio_en_curso_2.0',\n",
       "       u'estudio_en_curso_3.0', u'estudio_en_curso_4.0',\n",
       "       u'estudio_en_curso_5.0', u'estudio_en_curso_6.0',\n",
       "       u'estudio_en_curso_7.0', u'estudio_graduado_0.0',\n",
       "       u'estudio_graduado_1.0', u'estudio_graduado_2.0',\n",
       "       u'estudio_graduado_3.0', u'estudio_graduado_4.0',\n",
       "       u'estudio_graduado_5.0', u'estudio_graduado_6.0',\n",
       "       u'estudio_graduado_7.0', u'estudio_abandonado_0.0',\n",
       "       u'estudio_abandonado_1.0', u'estudio_abandonado_2.0',\n",
       "       u'estudio_abandonado_3.0', u'estudio_abandonado_4.0',\n",
       "       u'estudio_abandonado_5.0', u'estudio_abandonado_6.0',\n",
       "       u'estudio_abandonado_7.0', u'nombre_zona_Buenos Aires (fuera de GBA)',\n",
       "       u'nombre_zona_Capital Federal', u'nombre_zona_Gran Buenos Aires',\n",
       "       u'nombre_zona_Interior', u'tipo_de_trabajo_Fines de Semana',\n",
       "       u'tipo_de_trabajo_Full-time', u'tipo_de_trabajo_Part-time',\n",
       "       u'tipo_de_trabajo_Pasantia', u'tipo_de_trabajo_Por Contrato',\n",
       "       u'tipo_de_trabajo_Por Horas', u'tipo_de_trabajo_Primer empleo',\n",
       "       u'tipo_de_trabajo_Teletrabajo', u'tipo_de_trabajo_Temporario',\n",
       "       u'tipo_de_trabajo_Voluntario',\n",
       "       u'nivel_laboral_Gerencia / Alta Gerencia / Dirección',\n",
       "       u'nivel_laboral_Jefe / Supervisor / Responsable',\n",
       "       u'nivel_laboral_Junior', u'nivel_laboral_Otro',\n",
       "       u'nivel_laboral_Senior / Semi-Senior'],\n",
       "      dtype='object')"
      ]
     },
     "execution_count": 15,
     "metadata": {},
     "output_type": "execute_result"
    }
   ],
   "source": [
    "df_train.columns"
   ]
  },
  {
   "cell_type": "code",
   "execution_count": 16,
   "metadata": {},
   "outputs": [],
   "source": [
    "if (True):\n",
    "    std_edad = df_train['edades'].std()\n",
    "#     std_mes = df_train['mes'].std()\n",
    "#     std_dia = df_train['dia'].std()\n",
    "#     std_hora = df_train['hora'].std()\n",
    "    \n",
    "    mean_edad = df_train['edades'].mean()\n",
    "#     mean_mes = df_train['mes'].mean()\n",
    "#     mean_dia = df_train['dia'].mean()\n",
    "#     mean_hora = df_train['hora'].mean()\n",
    "    \n",
    "    df_train['edades'] = df_train['edades'].apply(lambda x: (x - mean_edad)/std_edad)\n",
    "#     df_train['mes'] = df_train['mes'].apply(lambda x: (x - mean_mes)/std_mes)\n",
    "#     df_train['dia'] = df_train['dia'].apply(lambda x: (x - mean_dia)/std_dia)\n",
    "#     df_train['hora'] = df_train['hora'].apply(lambda x: (x - mean_hora)/std_hora)"
   ]
  },
  {
   "cell_type": "code",
   "execution_count": 17,
   "metadata": {},
   "outputs": [
    {
     "data": {
      "text/plain": [
       "False    64\n",
       "dtype: int64"
      ]
     },
     "execution_count": 17,
     "metadata": {},
     "output_type": "execute_result"
    }
   ],
   "source": [
    "df_train.isnull().any().value_counts()"
   ]
  },
  {
   "cell_type": "code",
   "execution_count": 18,
   "metadata": {},
   "outputs": [],
   "source": [
    "# df_train.to_pickle('pickles/df_train_totales_ohe')\n",
    "df_train.to_pickle('pickles/df_train_positivos_ohe')"
   ]
  },
  {
   "cell_type": "markdown",
   "metadata": {},
   "source": [
    "# Algoritmos"
   ]
  },
  {
   "cell_type": "markdown",
   "metadata": {},
   "source": [
    "## One class SVM"
   ]
  },
  {
   "cell_type": "code",
   "execution_count": 4,
   "metadata": {},
   "outputs": [],
   "source": [
    "df_train = pd.read_pickle('pickles/df_train_positivos_ohe')"
   ]
  },
  {
   "cell_type": "code",
   "execution_count": 6,
   "metadata": {},
   "outputs": [
    {
     "name": "stderr",
     "output_type": "stream",
     "text": [
      "/usr/local/lib/python2.7/dist-packages/sklearn/model_selection/_split.py:2026: FutureWarning: From version 0.21, test_size will always complement train_size unless both are specified.\n",
      "  FutureWarning)\n"
     ]
    }
   ],
   "source": [
    "from sklearn.model_selection import train_test_split  \n",
    "train_data, test_data, = train_test_split(df_train, train_size = 0.9)  "
   ]
  },
  {
   "cell_type": "code",
   "execution_count": 7,
   "metadata": {},
   "outputs": [],
   "source": [
    "del df_train"
   ]
  },
  {
   "cell_type": "code",
   "execution_count": 8,
   "metadata": {},
   "outputs": [
    {
     "name": "stdout",
     "output_type": "stream",
     "text": [
      "5569136 Train\n",
      "618793 Test\n"
     ]
    }
   ],
   "source": [
    "print len(train_data), \"Train\"\n",
    "print len(test_data), \"Test\""
   ]
  },
  {
   "cell_type": "code",
   "execution_count": 9,
   "metadata": {},
   "outputs": [],
   "source": [
    "from sklearn import svm"
   ]
  },
  {
   "cell_type": "code",
   "execution_count": null,
   "metadata": {},
   "outputs": [],
   "source": [
    "#Es O(n**2) libsvm, por lo que probamos varios modelos chiquitos"
   ]
  },
  {
   "cell_type": "code",
   "execution_count": 10,
   "metadata": {},
   "outputs": [],
   "source": [
    "samples = []\n",
    "clfs = []\n",
    "for i in range(100):\n",
    "    train_data_sam = train_data.sample(10000)\n",
    "    clf = svm.OneClassSVM(nu=0.1, kernel=\"rbf\", gamma=0.1, verbose=True)\n",
    "    samples.append(train_data_sam)\n",
    "    clfs.append(clf)"
   ]
  },
  {
   "cell_type": "code",
   "execution_count": 12,
   "metadata": {},
   "outputs": [
    {
     "name": "stdout",
     "output_type": "stream",
     "text": [
      "[LibSVM][LibSVM][LibSVM][LibSVM][LibSVM][LibSVM][LibSVM][LibSVM][LibSVM][LibSVM][LibSVM][LibSVM][LibSVM][LibSVM][LibSVM][LibSVM][LibSVM][LibSVM][LibSVM][LibSVM][LibSVM][LibSVM][LibSVM][LibSVM][LibSVM][LibSVM][LibSVM][LibSVM][LibSVM][LibSVM][LibSVM][LibSVM][LibSVM][LibSVM][LibSVM][LibSVM][LibSVM][LibSVM][LibSVM][LibSVM][LibSVM][LibSVM][LibSVM][LibSVM][LibSVM][LibSVM][LibSVM][LibSVM][LibSVM][LibSVM][LibSVM][LibSVM][LibSVM][LibSVM][LibSVM][LibSVM][LibSVM][LibSVM][LibSVM][LibSVM][LibSVM][LibSVM][LibSVM][LibSVM][LibSVM][LibSVM][LibSVM][LibSVM][LibSVM][LibSVM][LibSVM][LibSVM][LibSVM][LibSVM][LibSVM][LibSVM][LibSVM][LibSVM][LibSVM][LibSVM][LibSVM][LibSVM][LibSVM][LibSVM][LibSVM][LibSVM][LibSVM][LibSVM][LibSVM][LibSVM][LibSVM][LibSVM][LibSVM][LibSVM][LibSVM][LibSVM][LibSVM][LibSVM][LibSVM][LibSVM]185.561057091\n"
     ]
    }
   ],
   "source": [
    "import time\n",
    "t = time.time()\n",
    "for i in range(100):\n",
    "    clfs[i].fit(samples[i][[x for x in samples[i].columns if x not in set([\"idaviso\",\"idpostulante\"])]])\n",
    "elapsed = time.time() - t\n",
    "print elapsed"
   ]
  },
  {
   "cell_type": "code",
   "execution_count": 15,
   "metadata": {},
   "outputs": [],
   "source": [
    "from sklearn.calibration import CalibratedClassifierCV"
   ]
  },
  {
   "cell_type": "code",
   "execution_count": 16,
   "metadata": {},
   "outputs": [
    {
     "ename": "TypeError",
     "evalue": "fit() takes at least 3 arguments (2 given)",
     "output_type": "error",
     "traceback": [
      "\u001b[0;31m---------------------------------------------------------------------------\u001b[0m",
      "\u001b[0;31mTypeError\u001b[0m                                 Traceback (most recent call last)",
      "\u001b[0;32m<ipython-input-16-b24e19001486>\u001b[0m in \u001b[0;36m<module>\u001b[0;34m()\u001b[0m\n\u001b[1;32m      9\u001b[0m     \u001b[0mtrain_data_sam\u001b[0m \u001b[0;34m=\u001b[0m \u001b[0mtrain_data\u001b[0m\u001b[0;34m.\u001b[0m\u001b[0msample\u001b[0m\u001b[0;34m(\u001b[0m\u001b[0;36m10000\u001b[0m\u001b[0;34m)\u001b[0m\u001b[0;34m\u001b[0m\u001b[0m\n\u001b[1;32m     10\u001b[0m     \u001b[0msamples_proba\u001b[0m\u001b[0;34m.\u001b[0m\u001b[0mappend\u001b[0m\u001b[0;34m(\u001b[0m\u001b[0mtrain_data_sam\u001b[0m\u001b[0;34m)\u001b[0m\u001b[0;34m\u001b[0m\u001b[0m\n\u001b[0;32m---> 11\u001b[0;31m     \u001b[0mclf_proba\u001b[0m\u001b[0;34m.\u001b[0m\u001b[0mfit\u001b[0m\u001b[0;34m(\u001b[0m\u001b[0mtrain_data_sam\u001b[0m\u001b[0;34m[\u001b[0m\u001b[0;34m[\u001b[0m\u001b[0mx\u001b[0m \u001b[0;32mfor\u001b[0m \u001b[0mx\u001b[0m \u001b[0;32min\u001b[0m \u001b[0mtrain_data_sam\u001b[0m\u001b[0;34m.\u001b[0m\u001b[0mcolumns\u001b[0m \u001b[0;32mif\u001b[0m \u001b[0mx\u001b[0m \u001b[0;32mnot\u001b[0m \u001b[0;32min\u001b[0m \u001b[0mset\u001b[0m\u001b[0;34m(\u001b[0m\u001b[0;34m[\u001b[0m\u001b[0;34m\"idaviso\"\u001b[0m\u001b[0;34m,\u001b[0m\u001b[0;34m\"idpostulante\"\u001b[0m\u001b[0;34m]\u001b[0m\u001b[0;34m)\u001b[0m\u001b[0;34m]\u001b[0m\u001b[0;34m]\u001b[0m\u001b[0;34m)\u001b[0m\u001b[0;34m\u001b[0m\u001b[0m\n\u001b[0m\u001b[1;32m     12\u001b[0m     \u001b[0mclfs_proba\u001b[0m\u001b[0;34m.\u001b[0m\u001b[0mappend\u001b[0m\u001b[0;34m(\u001b[0m\u001b[0mclf_proba\u001b[0m\u001b[0;34m)\u001b[0m\u001b[0;34m\u001b[0m\u001b[0m\n\u001b[1;32m     13\u001b[0m \u001b[0;34m\u001b[0m\u001b[0m\n",
      "\u001b[0;31mTypeError\u001b[0m: fit() takes at least 3 arguments (2 given)"
     ]
    }
   ],
   "source": [
    "# clfs_proba = []\n",
    "# samples_proba = []\n",
    "\n",
    "# t = time.time()\n",
    "\n",
    "# for i in range(100):\n",
    "#     clf_proba = CalibratedClassifierCV(svm.OneClassSVM(nu=0.1, kernel=\"rbf\", gamma=0.1, verbose=True), \n",
    "#                                        method='sigmoid')\n",
    "#     train_data_sam = train_data.sample(10000)\n",
    "#     samples_proba.append(train_data_sam)\n",
    "#     clf_proba.fit(train_data_sam[[x for x in train_data_sam.columns if x not in set([\"idaviso\",\"idpostulante\"])]])\n",
    "#     clfs_proba.append(clf_proba)\n",
    "    \n",
    "# elapsed = time.time() - t\n",
    "# print elapsed"
   ]
  },
  {
   "cell_type": "code",
   "execution_count": 19,
   "metadata": {},
   "outputs": [],
   "source": [
    "predictions = []\n",
    "for model in clfs:\n",
    "    predictions.append(model.predict(test_data[[x for x in samples[i].columns if x not in set([\"idaviso\",\"idpostulante\"])]]))"
   ]
  },
  {
   "cell_type": "markdown",
   "metadata": {},
   "source": [
    "## RF"
   ]
  },
  {
   "cell_type": "code",
   "execution_count": 20,
   "metadata": {},
   "outputs": [],
   "source": [
    "from sklearn.model_selection import train_test_split\n",
    "from sklearn.metrics import roc_curve,roc_auc_score\n",
    "from sklearn.ensemble import (RandomTreesEmbedding, RandomForestClassifier,\n",
    "                              GradientBoostingClassifier)"
   ]
  },
  {
   "cell_type": "code",
   "execution_count": 21,
   "metadata": {},
   "outputs": [],
   "source": [
    "rf = RandomForestClassifier(max_depth=8, n_estimators=50, random_state=117,n_jobs=-1)"
   ]
  },
  {
   "cell_type": "code",
   "execution_count": 23,
   "metadata": {},
   "outputs": [
    {
     "data": {
      "text/plain": [
       "RandomForestClassifier(bootstrap=True, class_weight=None, criterion='gini',\n",
       "            max_depth=8, max_features='auto', max_leaf_nodes=None,\n",
       "            min_impurity_decrease=0.0, min_impurity_split=None,\n",
       "            min_samples_leaf=1, min_samples_split=2,\n",
       "            min_weight_fraction_leaf=0.0, n_estimators=50, n_jobs=-1,\n",
       "            oob_score=False, random_state=117, verbose=0, warm_start=False)"
      ]
     },
     "execution_count": 23,
     "metadata": {},
     "output_type": "execute_result"
    }
   ],
   "source": [
    "rf.fit(df_train[[x for x in df_train.columns if x not in set([\"se_postulo\",\"idaviso\",\"idpostulante\"])]].values, df_train['se_postulo'].values)"
   ]
  },
  {
   "cell_type": "code",
   "execution_count": 27,
   "metadata": {},
   "outputs": [],
   "source": [
    "predictions = rf.predict_proba(df_train[[x for x in df_train.columns if x not in set([\"se_postulo\",\"idaviso\",\"idpostulante\"])]].values)\n",
    "# predictions = predictions[:,1]\n",
    "# roc_auc_score(y_score=predictions,y_true=df_train['se_postulo'].values)"
   ]
  },
  {
   "cell_type": "code",
   "execution_count": 28,
   "metadata": {},
   "outputs": [
    {
     "data": {
      "text/plain": [
       "array([[ 0.46742606,  0.53257394],\n",
       "       [ 0.44373826,  0.55626174],\n",
       "       [ 0.46730342,  0.53269658],\n",
       "       ..., \n",
       "       [ 0.50828227,  0.49171773],\n",
       "       [ 0.49060779,  0.50939221],\n",
       "       [ 0.53668794,  0.46331206]])"
      ]
     },
     "execution_count": 28,
     "metadata": {},
     "output_type": "execute_result"
    }
   ],
   "source": [
    "predictions"
   ]
  },
  {
   "cell_type": "code",
   "execution_count": 29,
   "metadata": {},
   "outputs": [],
   "source": [
    "import pickle\n",
    "pickle.dump(rf, open(\"randomForestModel_ohe_y_bc\", 'wb'))"
   ]
  },
  {
   "cell_type": "markdown",
   "metadata": {},
   "source": [
    "## Generar submit"
   ]
  },
  {
   "cell_type": "code",
   "execution_count": 25,
   "metadata": {},
   "outputs": [],
   "source": [
    "test_final = pd.read_csv(os.path.join(path_working_directory, \"test_final_100k.csv\"), low_memory=False)"
   ]
  },
  {
   "cell_type": "code",
   "execution_count": 31,
   "metadata": {},
   "outputs": [
    {
     "data": {
      "text/plain": [
       "100000"
      ]
     },
     "execution_count": 31,
     "metadata": {},
     "output_type": "execute_result"
    }
   ],
   "source": [
    "m = pd.merge(test_final, avisos, on='idaviso', how='inner')\n",
    "len(m)"
   ]
  },
  {
   "cell_type": "code",
   "execution_count": 29,
   "metadata": {},
   "outputs": [],
   "source": [
    "usuarios = pd.read_pickle(\"pickles/usuarios\")\n",
    "avisos = pd.read_pickle(\"pickles/avisos\")\n",
    "\n",
    "avisos = pd.get_dummies(avisos, columns=['nombre_zona', 'tipo_de_trabajo', 'nivel_laboral'])"
   ]
  },
  {
   "cell_type": "code",
   "execution_count": 37,
   "metadata": {},
   "outputs": [],
   "source": [
    "test_final = pd.merge(test_final, usuarios, how='inner', on='idpostulante')\n",
    "test_final = pd.merge(test_final, avisos, how='inner', on='idaviso')"
   ]
  },
  {
   "cell_type": "code",
   "execution_count": 38,
   "metadata": {},
   "outputs": [],
   "source": [
    "test_final = pd.get_dummies(test_final, columns=['estudio_en_curso', 'estudio_graduado', 'estudio_abandonado'])"
   ]
  },
  {
   "cell_type": "code",
   "execution_count": 39,
   "metadata": {},
   "outputs": [
    {
     "data": {
      "text/plain": [
       "100000"
      ]
     },
     "execution_count": 39,
     "metadata": {},
     "output_type": "execute_result"
    }
   ],
   "source": [
    "len(test_final)"
   ]
  },
  {
   "cell_type": "code",
   "execution_count": 41,
   "metadata": {},
   "outputs": [
    {
     "data": {
      "text/html": [
       "<div>\n",
       "<style>\n",
       "    .dataframe thead tr:only-child th {\n",
       "        text-align: right;\n",
       "    }\n",
       "\n",
       "    .dataframe thead th {\n",
       "        text-align: left;\n",
       "    }\n",
       "\n",
       "    .dataframe tbody tr th {\n",
       "        vertical-align: top;\n",
       "    }\n",
       "</style>\n",
       "<table border=\"1\" class=\"dataframe\">\n",
       "  <thead>\n",
       "    <tr style=\"text-align: right;\">\n",
       "      <th></th>\n",
       "      <th>id</th>\n",
       "      <th>idaviso</th>\n",
       "      <th>idpostulante</th>\n",
       "      <th>edades</th>\n",
       "      <th>sexo_FEM</th>\n",
       "      <th>sexo_MASC</th>\n",
       "      <th>idpais</th>\n",
       "      <th>titulo</th>\n",
       "      <th>descripcion</th>\n",
       "      <th>denominacion_empresa</th>\n",
       "      <th>...</th>\n",
       "      <th>tipo_de_trabajo_Por Contrato</th>\n",
       "      <th>tipo_de_trabajo_Por Horas</th>\n",
       "      <th>tipo_de_trabajo_Primer empleo</th>\n",
       "      <th>tipo_de_trabajo_Teletrabajo</th>\n",
       "      <th>tipo_de_trabajo_Temporario</th>\n",
       "      <th>nivel_laboral_Gerencia / Alta Gerencia / Dirección</th>\n",
       "      <th>nivel_laboral_Jefe / Supervisor / Responsable</th>\n",
       "      <th>nivel_laboral_Junior</th>\n",
       "      <th>nivel_laboral_Otro</th>\n",
       "      <th>nivel_laboral_Senior / Semi-Senior</th>\n",
       "    </tr>\n",
       "  </thead>\n",
       "  <tbody>\n",
       "    <tr>\n",
       "      <th>0</th>\n",
       "      <td>0</td>\n",
       "      <td>739260</td>\n",
       "      <td>6M9ZQR</td>\n",
       "      <td>42.0</td>\n",
       "      <td>1.0</td>\n",
       "      <td>0.0</td>\n",
       "      <td>1</td>\n",
       "      <td>[asistente, comercial]</td>\n",
       "      <td>[cliente, empresa, nac, ubicada, ciudad, bs, a...</td>\n",
       "      <td>BUMERAN.COM ARGENTINA</td>\n",
       "      <td>...</td>\n",
       "      <td>0</td>\n",
       "      <td>0</td>\n",
       "      <td>0</td>\n",
       "      <td>0</td>\n",
       "      <td>0</td>\n",
       "      <td>0</td>\n",
       "      <td>1</td>\n",
       "      <td>0</td>\n",
       "      <td>0</td>\n",
       "      <td>0</td>\n",
       "    </tr>\n",
       "  </tbody>\n",
       "</table>\n",
       "<p>1 rows × 72 columns</p>\n",
       "</div>"
      ],
      "text/plain": [
       "   id  idaviso idpostulante  edades  sexo_FEM  sexo_MASC  idpais  \\\n",
       "0   0   739260       6M9ZQR    42.0       1.0        0.0       1   \n",
       "\n",
       "                   titulo                                        descripcion  \\\n",
       "0  [asistente, comercial]  [cliente, empresa, nac, ubicada, ciudad, bs, a...   \n",
       "\n",
       "    denominacion_empresa                ...                  \\\n",
       "0  BUMERAN.COM ARGENTINA                ...                   \n",
       "\n",
       "   tipo_de_trabajo_Por Contrato  tipo_de_trabajo_Por Horas  \\\n",
       "0                             0                          0   \n",
       "\n",
       "   tipo_de_trabajo_Primer empleo  tipo_de_trabajo_Teletrabajo  \\\n",
       "0                              0                            0   \n",
       "\n",
       "   tipo_de_trabajo_Temporario  \\\n",
       "0                           0   \n",
       "\n",
       "   nivel_laboral_Gerencia / Alta Gerencia / Dirección  \\\n",
       "0                                                  0    \n",
       "\n",
       "   nivel_laboral_Jefe / Supervisor / Responsable  nivel_laboral_Junior  \\\n",
       "0                                              1                     0   \n",
       "\n",
       "  nivel_laboral_Otro nivel_laboral_Senior / Semi-Senior  \n",
       "0                  0                                  0  \n",
       "\n",
       "[1 rows x 72 columns]"
      ]
     },
     "execution_count": 41,
     "metadata": {},
     "output_type": "execute_result"
    }
   ],
   "source": [
    "test_final.head(1)"
   ]
  },
  {
   "cell_type": "code",
   "execution_count": 40,
   "metadata": {},
   "outputs": [],
   "source": [
    "if (True):\n",
    "    std_edad = test_final['edades'].std()\n",
    "    mean_edad = test_final['edades'].mean()\n",
    "    df_train['edades'] = test_final['edades'].apply(lambda x: (x - mean_edad)/std_edad)"
   ]
  },
  {
   "cell_type": "code",
   "execution_count": null,
   "metadata": {},
   "outputs": [],
   "source": [
    "predictions = rf.predict_proba(df_train[[x for x in df_train.columns if x not in set([\"id\",\"idaviso\",\"idpostulante\"])]].values)"
   ]
  }
 ],
 "metadata": {
  "kernelspec": {
   "display_name": "Python 2",
   "language": "python",
   "name": "python2"
  },
  "language_info": {
   "codemirror_mode": {
    "name": "ipython",
    "version": 2
   },
   "file_extension": ".py",
   "mimetype": "text/x-python",
   "name": "python",
   "nbconvert_exporter": "python",
   "pygments_lexer": "ipython2",
   "version": "2.7.12"
  }
 },
 "nbformat": 4,
 "nbformat_minor": 2
}
